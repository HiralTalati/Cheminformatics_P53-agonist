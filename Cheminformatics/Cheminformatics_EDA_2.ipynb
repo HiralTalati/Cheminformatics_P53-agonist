{
 "cells": [
  {
   "cell_type": "markdown",
   "id": "d849424a",
   "metadata": {},
   "source": [
    "### Exploratory Data Analysis"
   ]
  },
  {
   "cell_type": "markdown",
   "id": "5de42b65",
   "metadata": {},
   "source": [
    "### Install conda and rdkit"
   ]
  },
  {
   "cell_type": "code",
   "execution_count": 3,
   "id": "17d35a2d",
   "metadata": {},
   "outputs": [
    {
     "name": "stdout",
     "output_type": "stream",
     "text": [
      "Requirement already satisfied: rdkit in c:\\users\\tahi3002\\anaconda3\\lib\\site-packages (2022.9.5)\n",
      "Requirement already satisfied: numpy in c:\\users\\tahi3002\\anaconda3\\lib\\site-packages (from rdkit) (1.21.5)\n",
      "Requirement already satisfied: Pillow in c:\\users\\tahi3002\\anaconda3\\lib\\site-packages (from rdkit) (9.2.0)\n"
     ]
    }
   ],
   "source": [
    "import sys\n",
    "import pandas as pd\n",
    "!pip install rdkit"
   ]
  },
  {
   "cell_type": "code",
   "execution_count": 4,
   "id": "18c948b1",
   "metadata": {},
   "outputs": [
    {
     "data": {
      "text/html": [
       "<div>\n",
       "<style scoped>\n",
       "    .dataframe tbody tr th:only-of-type {\n",
       "        vertical-align: middle;\n",
       "    }\n",
       "\n",
       "    .dataframe tbody tr th {\n",
       "        vertical-align: top;\n",
       "    }\n",
       "\n",
       "    .dataframe thead th {\n",
       "        text-align: right;\n",
       "    }\n",
       "</style>\n",
       "<table border=\"1\" class=\"dataframe\">\n",
       "  <thead>\n",
       "    <tr style=\"text-align: right;\">\n",
       "      <th></th>\n",
       "      <th>molecule_chembl_id</th>\n",
       "      <th>canonical_smiles</th>\n",
       "      <th>standard_value</th>\n",
       "      <th>class</th>\n",
       "    </tr>\n",
       "  </thead>\n",
       "  <tbody>\n",
       "    <tr>\n",
       "      <th>0</th>\n",
       "      <td>CHEMBL179549</td>\n",
       "      <td>CCCN1C(=O)c2ccccc2C1(NC(=O)c1ccc(C(C)(C)C)cc1)...</td>\n",
       "      <td>27000.00</td>\n",
       "      <td>inactive</td>\n",
       "    </tr>\n",
       "    <tr>\n",
       "      <th>1</th>\n",
       "      <td>CHEMBL360920</td>\n",
       "      <td>CCCN1C(=O)c2ccccc2C1(NC(=O)c1ccccc1)c1ccc(C(C)...</td>\n",
       "      <td>66000.00</td>\n",
       "      <td>inactive</td>\n",
       "    </tr>\n",
       "    <tr>\n",
       "      <th>2</th>\n",
       "      <td>CHEMBL182052</td>\n",
       "      <td>CCCOC1(c2ccccc2)c2ccccc2C(=O)N1C(Cc1ccc(O)cc1)...</td>\n",
       "      <td>90000.00</td>\n",
       "      <td>inactive</td>\n",
       "    </tr>\n",
       "    <tr>\n",
       "      <th>3</th>\n",
       "      <td>CHEMBL179662</td>\n",
       "      <td>OCC(NC1(c2ccccc2)c2ccccc2CC1Cc1ccccc1)C(O)c1cc...</td>\n",
       "      <td>85000.00</td>\n",
       "      <td>inactive</td>\n",
       "    </tr>\n",
       "    <tr>\n",
       "      <th>4</th>\n",
       "      <td>CHEMBL181688</td>\n",
       "      <td>CC(C)(C)c1ccc(COC2(c3ccccc3)c3ccccc3C(=O)N2Cc2...</td>\n",
       "      <td>92000.00</td>\n",
       "      <td>inactive</td>\n",
       "    </tr>\n",
       "    <tr>\n",
       "      <th>...</th>\n",
       "      <td>...</td>\n",
       "      <td>...</td>\n",
       "      <td>...</td>\n",
       "      <td>...</td>\n",
       "    </tr>\n",
       "    <tr>\n",
       "      <th>1290</th>\n",
       "      <td>CHEMBL3649967</td>\n",
       "      <td>CCOC(c1nc2cc(-c3noc(=O)[nH]3)nc(-c3cncc(Cl)c3)...</td>\n",
       "      <td>1.20</td>\n",
       "      <td>active</td>\n",
       "    </tr>\n",
       "    <tr>\n",
       "      <th>1291</th>\n",
       "      <td>CHEMBL5092438</td>\n",
       "      <td>COCC(C)c1nc2cc(-c3noc(=O)[nH]3)nc(-c3cncc(Cl)c...</td>\n",
       "      <td>1.60</td>\n",
       "      <td>active</td>\n",
       "    </tr>\n",
       "    <tr>\n",
       "      <th>1292</th>\n",
       "      <td>CHEMBL5089893</td>\n",
       "      <td>CCO[C@@H](c1nc2cc(-c3noc(=O)[nH]3)nc(-c3cncc(C...</td>\n",
       "      <td>0.35</td>\n",
       "      <td>active</td>\n",
       "    </tr>\n",
       "    <tr>\n",
       "      <th>1293</th>\n",
       "      <td>CHEMBL5085142</td>\n",
       "      <td>Cc1cccc(-c2nc3nc(C(=O)O)nc(NCC4CC4)c3n2CC2CCCC...</td>\n",
       "      <td>8400.00</td>\n",
       "      <td>intermediate</td>\n",
       "    </tr>\n",
       "    <tr>\n",
       "      <th>1294</th>\n",
       "      <td>CHEMBL5084175</td>\n",
       "      <td>C[C@@H](Nc1nc(C(=O)O)nc2nc(-c3ccc4sccc4c3)n(Cc...</td>\n",
       "      <td>260.00</td>\n",
       "      <td>active</td>\n",
       "    </tr>\n",
       "  </tbody>\n",
       "</table>\n",
       "<p>1295 rows × 4 columns</p>\n",
       "</div>"
      ],
      "text/plain": [
       "     molecule_chembl_id                                   canonical_smiles  \\\n",
       "0          CHEMBL179549  CCCN1C(=O)c2ccccc2C1(NC(=O)c1ccc(C(C)(C)C)cc1)...   \n",
       "1          CHEMBL360920  CCCN1C(=O)c2ccccc2C1(NC(=O)c1ccccc1)c1ccc(C(C)...   \n",
       "2          CHEMBL182052  CCCOC1(c2ccccc2)c2ccccc2C(=O)N1C(Cc1ccc(O)cc1)...   \n",
       "3          CHEMBL179662  OCC(NC1(c2ccccc2)c2ccccc2CC1Cc1ccccc1)C(O)c1cc...   \n",
       "4          CHEMBL181688  CC(C)(C)c1ccc(COC2(c3ccccc3)c3ccccc3C(=O)N2Cc2...   \n",
       "...                 ...                                                ...   \n",
       "1290      CHEMBL3649967  CCOC(c1nc2cc(-c3noc(=O)[nH]3)nc(-c3cncc(Cl)c3)...   \n",
       "1291      CHEMBL5092438  COCC(C)c1nc2cc(-c3noc(=O)[nH]3)nc(-c3cncc(Cl)c...   \n",
       "1292      CHEMBL5089893  CCO[C@@H](c1nc2cc(-c3noc(=O)[nH]3)nc(-c3cncc(C...   \n",
       "1293      CHEMBL5085142  Cc1cccc(-c2nc3nc(C(=O)O)nc(NCC4CC4)c3n2CC2CCCC...   \n",
       "1294      CHEMBL5084175  C[C@@H](Nc1nc(C(=O)O)nc2nc(-c3ccc4sccc4c3)n(Cc...   \n",
       "\n",
       "      standard_value         class  \n",
       "0           27000.00      inactive  \n",
       "1           66000.00      inactive  \n",
       "2           90000.00      inactive  \n",
       "3           85000.00      inactive  \n",
       "4           92000.00      inactive  \n",
       "...              ...           ...  \n",
       "1290            1.20        active  \n",
       "1291            1.60        active  \n",
       "1292            0.35        active  \n",
       "1293         8400.00  intermediate  \n",
       "1294          260.00        active  \n",
       "\n",
       "[1295 rows x 4 columns]"
      ]
     },
     "execution_count": 4,
     "metadata": {},
     "output_type": "execute_result"
    }
   ],
   "source": [
    "df6 = pd.read_csv('P53_03_bioactivity_data_curated.csv')\n",
    "df6"
   ]
  },
  {
   "cell_type": "code",
   "execution_count": 5,
   "id": "10dfa428",
   "metadata": {},
   "outputs": [],
   "source": [
    "df_no_smiles = df6.drop(columns='canonical_smiles')"
   ]
  },
  {
   "cell_type": "code",
   "execution_count": 6,
   "id": "1a1c2fd4",
   "metadata": {},
   "outputs": [],
   "source": [
    "smiles = []\n",
    "\n",
    "for i in df6.canonical_smiles.tolist():\n",
    "  cpd = str(i).split('.')\n",
    "  cpd_longest = max(cpd, key = len)\n",
    "  smiles.append(cpd_longest)\n",
    "\n",
    "smiles = pd.Series(smiles, name = 'canonical_smiles')"
   ]
  },
  {
   "cell_type": "code",
   "execution_count": 7,
   "id": "644181c7",
   "metadata": {},
   "outputs": [
    {
     "data": {
      "text/html": [
       "<div>\n",
       "<style scoped>\n",
       "    .dataframe tbody tr th:only-of-type {\n",
       "        vertical-align: middle;\n",
       "    }\n",
       "\n",
       "    .dataframe tbody tr th {\n",
       "        vertical-align: top;\n",
       "    }\n",
       "\n",
       "    .dataframe thead th {\n",
       "        text-align: right;\n",
       "    }\n",
       "</style>\n",
       "<table border=\"1\" class=\"dataframe\">\n",
       "  <thead>\n",
       "    <tr style=\"text-align: right;\">\n",
       "      <th></th>\n",
       "      <th>molecule_chembl_id</th>\n",
       "      <th>standard_value</th>\n",
       "      <th>class</th>\n",
       "      <th>canonical_smiles</th>\n",
       "    </tr>\n",
       "  </thead>\n",
       "  <tbody>\n",
       "    <tr>\n",
       "      <th>0</th>\n",
       "      <td>CHEMBL179549</td>\n",
       "      <td>27000.00</td>\n",
       "      <td>inactive</td>\n",
       "      <td>CCCN1C(=O)c2ccccc2C1(NC(=O)c1ccc(C(C)(C)C)cc1)...</td>\n",
       "    </tr>\n",
       "    <tr>\n",
       "      <th>1</th>\n",
       "      <td>CHEMBL360920</td>\n",
       "      <td>66000.00</td>\n",
       "      <td>inactive</td>\n",
       "      <td>CCCN1C(=O)c2ccccc2C1(NC(=O)c1ccccc1)c1ccc(C(C)...</td>\n",
       "    </tr>\n",
       "    <tr>\n",
       "      <th>2</th>\n",
       "      <td>CHEMBL182052</td>\n",
       "      <td>90000.00</td>\n",
       "      <td>inactive</td>\n",
       "      <td>CCCOC1(c2ccccc2)c2ccccc2C(=O)N1C(Cc1ccc(O)cc1)...</td>\n",
       "    </tr>\n",
       "    <tr>\n",
       "      <th>3</th>\n",
       "      <td>CHEMBL179662</td>\n",
       "      <td>85000.00</td>\n",
       "      <td>inactive</td>\n",
       "      <td>OCC(NC1(c2ccccc2)c2ccccc2CC1Cc1ccccc1)C(O)c1cc...</td>\n",
       "    </tr>\n",
       "    <tr>\n",
       "      <th>4</th>\n",
       "      <td>CHEMBL181688</td>\n",
       "      <td>92000.00</td>\n",
       "      <td>inactive</td>\n",
       "      <td>CC(C)(C)c1ccc(COC2(c3ccccc3)c3ccccc3C(=O)N2Cc2...</td>\n",
       "    </tr>\n",
       "    <tr>\n",
       "      <th>...</th>\n",
       "      <td>...</td>\n",
       "      <td>...</td>\n",
       "      <td>...</td>\n",
       "      <td>...</td>\n",
       "    </tr>\n",
       "    <tr>\n",
       "      <th>1290</th>\n",
       "      <td>CHEMBL3649967</td>\n",
       "      <td>1.20</td>\n",
       "      <td>active</td>\n",
       "      <td>CCOC(c1nc2cc(-c3noc(=O)[nH]3)nc(-c3cncc(Cl)c3)...</td>\n",
       "    </tr>\n",
       "    <tr>\n",
       "      <th>1291</th>\n",
       "      <td>CHEMBL5092438</td>\n",
       "      <td>1.60</td>\n",
       "      <td>active</td>\n",
       "      <td>COCC(C)c1nc2cc(-c3noc(=O)[nH]3)nc(-c3cncc(Cl)c...</td>\n",
       "    </tr>\n",
       "    <tr>\n",
       "      <th>1292</th>\n",
       "      <td>CHEMBL5089893</td>\n",
       "      <td>0.35</td>\n",
       "      <td>active</td>\n",
       "      <td>CCO[C@@H](c1nc2cc(-c3noc(=O)[nH]3)nc(-c3cncc(C...</td>\n",
       "    </tr>\n",
       "    <tr>\n",
       "      <th>1293</th>\n",
       "      <td>CHEMBL5085142</td>\n",
       "      <td>8400.00</td>\n",
       "      <td>intermediate</td>\n",
       "      <td>Cc1cccc(-c2nc3nc(C(=O)O)nc(NCC4CC4)c3n2CC2CCCC...</td>\n",
       "    </tr>\n",
       "    <tr>\n",
       "      <th>1294</th>\n",
       "      <td>CHEMBL5084175</td>\n",
       "      <td>260.00</td>\n",
       "      <td>active</td>\n",
       "      <td>C[C@@H](Nc1nc(C(=O)O)nc2nc(-c3ccc4sccc4c3)n(Cc...</td>\n",
       "    </tr>\n",
       "  </tbody>\n",
       "</table>\n",
       "<p>1295 rows × 4 columns</p>\n",
       "</div>"
      ],
      "text/plain": [
       "     molecule_chembl_id  standard_value         class  \\\n",
       "0          CHEMBL179549        27000.00      inactive   \n",
       "1          CHEMBL360920        66000.00      inactive   \n",
       "2          CHEMBL182052        90000.00      inactive   \n",
       "3          CHEMBL179662        85000.00      inactive   \n",
       "4          CHEMBL181688        92000.00      inactive   \n",
       "...                 ...             ...           ...   \n",
       "1290      CHEMBL3649967            1.20        active   \n",
       "1291      CHEMBL5092438            1.60        active   \n",
       "1292      CHEMBL5089893            0.35        active   \n",
       "1293      CHEMBL5085142         8400.00  intermediate   \n",
       "1294      CHEMBL5084175          260.00        active   \n",
       "\n",
       "                                       canonical_smiles  \n",
       "0     CCCN1C(=O)c2ccccc2C1(NC(=O)c1ccc(C(C)(C)C)cc1)...  \n",
       "1     CCCN1C(=O)c2ccccc2C1(NC(=O)c1ccccc1)c1ccc(C(C)...  \n",
       "2     CCCOC1(c2ccccc2)c2ccccc2C(=O)N1C(Cc1ccc(O)cc1)...  \n",
       "3     OCC(NC1(c2ccccc2)c2ccccc2CC1Cc1ccccc1)C(O)c1cc...  \n",
       "4     CC(C)(C)c1ccc(COC2(c3ccccc3)c3ccccc3C(=O)N2Cc2...  \n",
       "...                                                 ...  \n",
       "1290  CCOC(c1nc2cc(-c3noc(=O)[nH]3)nc(-c3cncc(Cl)c3)...  \n",
       "1291  COCC(C)c1nc2cc(-c3noc(=O)[nH]3)nc(-c3cncc(Cl)c...  \n",
       "1292  CCO[C@@H](c1nc2cc(-c3noc(=O)[nH]3)nc(-c3cncc(C...  \n",
       "1293  Cc1cccc(-c2nc3nc(C(=O)O)nc(NCC4CC4)c3n2CC2CCCC...  \n",
       "1294  C[C@@H](Nc1nc(C(=O)O)nc2nc(-c3ccc4sccc4c3)n(Cc...  \n",
       "\n",
       "[1295 rows x 4 columns]"
      ]
     },
     "execution_count": 7,
     "metadata": {},
     "output_type": "execute_result"
    }
   ],
   "source": [
    "df_clean_smiles = pd.concat([df_no_smiles,smiles], axis=1)\n",
    "df_clean_smiles"
   ]
  },
  {
   "cell_type": "markdown",
   "id": "445a9bdd",
   "metadata": {},
   "source": [
    "### Examining the SMILES data"
   ]
  },
  {
   "cell_type": "code",
   "execution_count": 8,
   "id": "b06df837",
   "metadata": {},
   "outputs": [
    {
     "data": {
      "text/plain": [
       "0       CCCN1C(=O)c2ccccc2C1(NC(=O)c1ccc(C(C)(C)C)cc1)...\n",
       "1       CCCN1C(=O)c2ccccc2C1(NC(=O)c1ccccc1)c1ccc(C(C)...\n",
       "2       CCCOC1(c2ccccc2)c2ccccc2C(=O)N1C(Cc1ccc(O)cc1)...\n",
       "3       OCC(NC1(c2ccccc2)c2ccccc2CC1Cc1ccccc1)C(O)c1cc...\n",
       "4       CC(C)(C)c1ccc(COC2(c3ccccc3)c3ccccc3C(=O)N2Cc2...\n",
       "                              ...                        \n",
       "1290    CCOC(c1nc2cc(-c3noc(=O)[nH]3)nc(-c3cncc(Cl)c3)...\n",
       "1291    COCC(C)c1nc2cc(-c3noc(=O)[nH]3)nc(-c3cncc(Cl)c...\n",
       "1292    CCO[C@@H](c1nc2cc(-c3noc(=O)[nH]3)nc(-c3cncc(C...\n",
       "1293    Cc1cccc(-c2nc3nc(C(=O)O)nc(NCC4CC4)c3n2CC2CCCC...\n",
       "1294    C[C@@H](Nc1nc(C(=O)O)nc2nc(-c3ccc4sccc4c3)n(Cc...\n",
       "Name: canonical_smiles, Length: 1295, dtype: object"
      ]
     },
     "execution_count": 8,
     "metadata": {},
     "output_type": "execute_result"
    }
   ],
   "source": [
    "df_clean_smiles.canonical_smiles"
   ]
  },
  {
   "cell_type": "markdown",
   "id": "1bedaa6d",
   "metadata": {},
   "source": [
    "### Convert a molecule from the SMILES string to an rdkit object"
   ]
  },
  {
   "cell_type": "code",
   "execution_count": 9,
   "id": "76e9bc55",
   "metadata": {},
   "outputs": [],
   "source": [
    "from rdkit import Chem"
   ]
  },
  {
   "cell_type": "code",
   "execution_count": 10,
   "id": "ae8475fd",
   "metadata": {},
   "outputs": [
    {
     "data": {
      "image/png": "[encoded data removed]",
      "text/plain": [
       "<rdkit.Chem.rdchem.Mol at 0x1901c2523c0>"
      ]
     },
     "execution_count": 10,
     "metadata": {},
     "output_type": "execute_result"
    }
   ],
   "source": [
    "Chem.MolFromSmiles(df_clean_smiles.canonical_smiles[0])"
   ]
  },
  {
   "cell_type": "markdown",
   "id": "8f45f48c",
   "metadata": {},
   "source": [
    "### Calculate molecular descriptors in rdkit"
   ]
  },
  {
   "cell_type": "markdown",
   "id": "eef0c91c",
   "metadata": {},
   "source": [
    "### Convert list of molecules to rdkit object"
   ]
  },
  {
   "cell_type": "code",
   "execution_count": 11,
   "id": "2427eccb",
   "metadata": {},
   "outputs": [],
   "source": [
    "from rdkit import Chem"
   ]
  },
  {
   "cell_type": "code",
   "execution_count": 12,
   "id": "0da933a3",
   "metadata": {},
   "outputs": [],
   "source": [
    "mol_list= []\n",
    "for element in df_clean_smiles.canonical_smiles:\n",
    "  mol = Chem.MolFromSmiles(element)\n",
    "  mol_list.append(mol)"
   ]
  },
  {
   "cell_type": "code",
   "execution_count": 13,
   "id": "d0c5d8a5",
   "metadata": {},
   "outputs": [
    {
     "data": {
      "text/plain": [
       "1295"
      ]
     },
     "execution_count": 13,
     "metadata": {},
     "output_type": "execute_result"
    }
   ],
   "source": [
    "len(mol_list)"
   ]
  },
  {
   "cell_type": "code",
   "execution_count": 14,
   "id": "4d4afdd6",
   "metadata": {},
   "outputs": [
    {
     "data": {
      "text/plain": [
       "[<rdkit.Chem.rdchem.Mol at 0x1901c252580>,\n",
       " <rdkit.Chem.rdchem.Mol at 0x1901c252350>,\n",
       " <rdkit.Chem.rdchem.Mol at 0x1901c2520b0>,\n",
       " <rdkit.Chem.rdchem.Mol at 0x1901c252660>,\n",
       " <rdkit.Chem.rdchem.Mol at 0x1901c2524a0>]"
      ]
     },
     "execution_count": 14,
     "metadata": {},
     "output_type": "execute_result"
    }
   ],
   "source": [
    "mol_list[:5]"
   ]
  },
  {
   "cell_type": "markdown",
   "id": "e795ee3e",
   "metadata": {},
   "source": [
    "### Calculate Lipinski descriptors"
   ]
  },
  {
   "cell_type": "raw",
   "id": "0099925f",
   "metadata": {},
   "source": [
    "Christopher Lipinski, came up with a set of rule-of-thumb for evaluating the druglikeness of compounds. Such druglikeness is based on the Absorption, Distribution, Metabolism and Excretion (ADME) that is also known as the pharmacokinetic profile. Also, known as the Rule-of-Five or Lipinski's Rule.\n",
    "\n",
    "The Lipinski's Rule stated the following:\n",
    "\n",
    "Molecular weight < 500 Dalton\n",
    "Octanol-water partition coefficient (LogP) < 5\n",
    "Hydrogen bond donors < 5\n",
    "Hydrogen bond acceptors < 10"
   ]
  },
  {
   "cell_type": "markdown",
   "id": "e59b31d2",
   "metadata": {},
   "source": [
    "### Import libraries"
   ]
  },
  {
   "cell_type": "code",
   "execution_count": 15,
   "id": "7361f3df",
   "metadata": {},
   "outputs": [],
   "source": [
    "import numpy as np\n",
    "from rdkit import Chem\n",
    "from rdkit.Chem import Descriptors, Lipinski"
   ]
  },
  {
   "cell_type": "markdown",
   "id": "9c266086",
   "metadata": {},
   "source": [
    "### Calculate descriptors"
   ]
  },
  {
   "cell_type": "code",
   "execution_count": 16,
   "id": "91ce6438",
   "metadata": {},
   "outputs": [],
   "source": [
    "# Inspired by: https://codeocean.com/explore/capsules?query=tag:data-curation\n",
    "\n",
    "def lipinski(smiles, verbose=False):\n",
    "\n",
    "    moldata= []\n",
    "    for elem in smiles:\n",
    "        mol=Chem.MolFromSmiles(elem) \n",
    "        moldata.append(mol)\n",
    "       \n",
    "    baseData= np.arange(1,1)\n",
    "    i=0  \n",
    "    for mol in moldata:        \n",
    "       \n",
    "        desc_MolWt = Descriptors.MolWt(mol)\n",
    "        desc_MolLogP = Descriptors.MolLogP(mol)\n",
    "        desc_NumHDonors = Lipinski.NumHDonors(mol)\n",
    "        desc_NumHAcceptors = Lipinski.NumHAcceptors(mol)\n",
    "           \n",
    "        row = np.array([desc_MolWt,\n",
    "                        desc_MolLogP,\n",
    "                        desc_NumHDonors,\n",
    "                        desc_NumHAcceptors])   \n",
    "    \n",
    "        if(i==0):\n",
    "            baseData=row\n",
    "        else:\n",
    "            baseData=np.vstack([baseData, row])\n",
    "        i=i+1      \n",
    "    \n",
    "    columnNames=[\"MW\",\"LogP\",\"NumHDonors\",\"NumHAcceptors\"]   \n",
    "    descriptors = pd.DataFrame(data=baseData,columns=columnNames)\n",
    "    \n",
    "    return descriptors"
   ]
  },
  {
   "cell_type": "code",
   "execution_count": 17,
   "id": "58561776",
   "metadata": {},
   "outputs": [
    {
     "data": {
      "text/html": [
       "<div>\n",
       "<style scoped>\n",
       "    .dataframe tbody tr th:only-of-type {\n",
       "        vertical-align: middle;\n",
       "    }\n",
       "\n",
       "    .dataframe tbody tr th {\n",
       "        vertical-align: top;\n",
       "    }\n",
       "\n",
       "    .dataframe thead th {\n",
       "        text-align: right;\n",
       "    }\n",
       "</style>\n",
       "<table border=\"1\" class=\"dataframe\">\n",
       "  <thead>\n",
       "    <tr style=\"text-align: right;\">\n",
       "      <th></th>\n",
       "      <th>MW</th>\n",
       "      <th>LogP</th>\n",
       "      <th>NumHDonors</th>\n",
       "      <th>NumHAcceptors</th>\n",
       "    </tr>\n",
       "  </thead>\n",
       "  <tbody>\n",
       "    <tr>\n",
       "      <th>0</th>\n",
       "      <td>572.822</td>\n",
       "      <td>7.17210</td>\n",
       "      <td>1.0</td>\n",
       "      <td>4.0</td>\n",
       "    </tr>\n",
       "    <tr>\n",
       "      <th>1</th>\n",
       "      <td>426.560</td>\n",
       "      <td>5.48100</td>\n",
       "      <td>1.0</td>\n",
       "      <td>2.0</td>\n",
       "    </tr>\n",
       "    <tr>\n",
       "      <th>2</th>\n",
       "      <td>445.515</td>\n",
       "      <td>4.26000</td>\n",
       "      <td>1.0</td>\n",
       "      <td>5.0</td>\n",
       "    </tr>\n",
       "    <tr>\n",
       "      <th>3</th>\n",
       "      <td>449.594</td>\n",
       "      <td>5.02930</td>\n",
       "      <td>3.0</td>\n",
       "      <td>3.0</td>\n",
       "    </tr>\n",
       "    <tr>\n",
       "      <th>4</th>\n",
       "      <td>461.605</td>\n",
       "      <td>7.05800</td>\n",
       "      <td>0.0</td>\n",
       "      <td>2.0</td>\n",
       "    </tr>\n",
       "    <tr>\n",
       "      <th>...</th>\n",
       "      <td>...</td>\n",
       "      <td>...</td>\n",
       "      <td>...</td>\n",
       "      <td>...</td>\n",
       "    </tr>\n",
       "    <tr>\n",
       "      <th>1290</th>\n",
       "      <td>523.037</td>\n",
       "      <td>5.80390</td>\n",
       "      <td>1.0</td>\n",
       "      <td>8.0</td>\n",
       "    </tr>\n",
       "    <tr>\n",
       "      <th>1291</th>\n",
       "      <td>511.026</td>\n",
       "      <td>5.62720</td>\n",
       "      <td>1.0</td>\n",
       "      <td>8.0</td>\n",
       "    </tr>\n",
       "    <tr>\n",
       "      <th>1292</th>\n",
       "      <td>537.064</td>\n",
       "      <td>6.36490</td>\n",
       "      <td>1.0</td>\n",
       "      <td>8.0</td>\n",
       "    </tr>\n",
       "    <tr>\n",
       "      <th>1293</th>\n",
       "      <td>419.529</td>\n",
       "      <td>4.90212</td>\n",
       "      <td>2.0</td>\n",
       "      <td>6.0</td>\n",
       "    </tr>\n",
       "    <tr>\n",
       "      <th>1294</th>\n",
       "      <td>504.015</td>\n",
       "      <td>6.31830</td>\n",
       "      <td>2.0</td>\n",
       "      <td>7.0</td>\n",
       "    </tr>\n",
       "  </tbody>\n",
       "</table>\n",
       "<p>1295 rows × 4 columns</p>\n",
       "</div>"
      ],
      "text/plain": [
       "           MW     LogP  NumHDonors  NumHAcceptors\n",
       "0     572.822  7.17210         1.0            4.0\n",
       "1     426.560  5.48100         1.0            2.0\n",
       "2     445.515  4.26000         1.0            5.0\n",
       "3     449.594  5.02930         3.0            3.0\n",
       "4     461.605  7.05800         0.0            2.0\n",
       "...       ...      ...         ...            ...\n",
       "1290  523.037  5.80390         1.0            8.0\n",
       "1291  511.026  5.62720         1.0            8.0\n",
       "1292  537.064  6.36490         1.0            8.0\n",
       "1293  419.529  4.90212         2.0            6.0\n",
       "1294  504.015  6.31830         2.0            7.0\n",
       "\n",
       "[1295 rows x 4 columns]"
      ]
     },
     "execution_count": 17,
     "metadata": {},
     "output_type": "execute_result"
    }
   ],
   "source": [
    "df_lipinski = lipinski(df_clean_smiles.canonical_smiles)\n",
    "df_lipinski"
   ]
  },
  {
   "cell_type": "markdown",
   "id": "34921063",
   "metadata": {},
   "source": [
    "#### Combine DataFrames"
   ]
  },
  {
   "cell_type": "code",
   "execution_count": 18,
   "id": "462b72b9",
   "metadata": {},
   "outputs": [
    {
     "data": {
      "text/html": [
       "<div>\n",
       "<style scoped>\n",
       "    .dataframe tbody tr th:only-of-type {\n",
       "        vertical-align: middle;\n",
       "    }\n",
       "\n",
       "    .dataframe tbody tr th {\n",
       "        vertical-align: top;\n",
       "    }\n",
       "\n",
       "    .dataframe thead th {\n",
       "        text-align: right;\n",
       "    }\n",
       "</style>\n",
       "<table border=\"1\" class=\"dataframe\">\n",
       "  <thead>\n",
       "    <tr style=\"text-align: right;\">\n",
       "      <th></th>\n",
       "      <th>MW</th>\n",
       "      <th>LogP</th>\n",
       "      <th>NumHDonors</th>\n",
       "      <th>NumHAcceptors</th>\n",
       "    </tr>\n",
       "  </thead>\n",
       "  <tbody>\n",
       "    <tr>\n",
       "      <th>0</th>\n",
       "      <td>572.822</td>\n",
       "      <td>7.17210</td>\n",
       "      <td>1.0</td>\n",
       "      <td>4.0</td>\n",
       "    </tr>\n",
       "    <tr>\n",
       "      <th>1</th>\n",
       "      <td>426.560</td>\n",
       "      <td>5.48100</td>\n",
       "      <td>1.0</td>\n",
       "      <td>2.0</td>\n",
       "    </tr>\n",
       "    <tr>\n",
       "      <th>2</th>\n",
       "      <td>445.515</td>\n",
       "      <td>4.26000</td>\n",
       "      <td>1.0</td>\n",
       "      <td>5.0</td>\n",
       "    </tr>\n",
       "    <tr>\n",
       "      <th>3</th>\n",
       "      <td>449.594</td>\n",
       "      <td>5.02930</td>\n",
       "      <td>3.0</td>\n",
       "      <td>3.0</td>\n",
       "    </tr>\n",
       "    <tr>\n",
       "      <th>4</th>\n",
       "      <td>461.605</td>\n",
       "      <td>7.05800</td>\n",
       "      <td>0.0</td>\n",
       "      <td>2.0</td>\n",
       "    </tr>\n",
       "    <tr>\n",
       "      <th>...</th>\n",
       "      <td>...</td>\n",
       "      <td>...</td>\n",
       "      <td>...</td>\n",
       "      <td>...</td>\n",
       "    </tr>\n",
       "    <tr>\n",
       "      <th>1290</th>\n",
       "      <td>523.037</td>\n",
       "      <td>5.80390</td>\n",
       "      <td>1.0</td>\n",
       "      <td>8.0</td>\n",
       "    </tr>\n",
       "    <tr>\n",
       "      <th>1291</th>\n",
       "      <td>511.026</td>\n",
       "      <td>5.62720</td>\n",
       "      <td>1.0</td>\n",
       "      <td>8.0</td>\n",
       "    </tr>\n",
       "    <tr>\n",
       "      <th>1292</th>\n",
       "      <td>537.064</td>\n",
       "      <td>6.36490</td>\n",
       "      <td>1.0</td>\n",
       "      <td>8.0</td>\n",
       "    </tr>\n",
       "    <tr>\n",
       "      <th>1293</th>\n",
       "      <td>419.529</td>\n",
       "      <td>4.90212</td>\n",
       "      <td>2.0</td>\n",
       "      <td>6.0</td>\n",
       "    </tr>\n",
       "    <tr>\n",
       "      <th>1294</th>\n",
       "      <td>504.015</td>\n",
       "      <td>6.31830</td>\n",
       "      <td>2.0</td>\n",
       "      <td>7.0</td>\n",
       "    </tr>\n",
       "  </tbody>\n",
       "</table>\n",
       "<p>1295 rows × 4 columns</p>\n",
       "</div>"
      ],
      "text/plain": [
       "           MW     LogP  NumHDonors  NumHAcceptors\n",
       "0     572.822  7.17210         1.0            4.0\n",
       "1     426.560  5.48100         1.0            2.0\n",
       "2     445.515  4.26000         1.0            5.0\n",
       "3     449.594  5.02930         3.0            3.0\n",
       "4     461.605  7.05800         0.0            2.0\n",
       "...       ...      ...         ...            ...\n",
       "1290  523.037  5.80390         1.0            8.0\n",
       "1291  511.026  5.62720         1.0            8.0\n",
       "1292  537.064  6.36490         1.0            8.0\n",
       "1293  419.529  4.90212         2.0            6.0\n",
       "1294  504.015  6.31830         2.0            7.0\n",
       "\n",
       "[1295 rows x 4 columns]"
      ]
     },
     "execution_count": 18,
     "metadata": {},
     "output_type": "execute_result"
    }
   ],
   "source": [
    "df_lipinski"
   ]
  },
  {
   "cell_type": "code",
   "execution_count": 19,
   "id": "22d8d8ab",
   "metadata": {},
   "outputs": [
    {
     "data": {
      "text/html": [
       "<div>\n",
       "<style scoped>\n",
       "    .dataframe tbody tr th:only-of-type {\n",
       "        vertical-align: middle;\n",
       "    }\n",
       "\n",
       "    .dataframe tbody tr th {\n",
       "        vertical-align: top;\n",
       "    }\n",
       "\n",
       "    .dataframe thead th {\n",
       "        text-align: right;\n",
       "    }\n",
       "</style>\n",
       "<table border=\"1\" class=\"dataframe\">\n",
       "  <thead>\n",
       "    <tr style=\"text-align: right;\">\n",
       "      <th></th>\n",
       "      <th>molecule_chembl_id</th>\n",
       "      <th>canonical_smiles</th>\n",
       "      <th>standard_value</th>\n",
       "      <th>class</th>\n",
       "    </tr>\n",
       "  </thead>\n",
       "  <tbody>\n",
       "    <tr>\n",
       "      <th>0</th>\n",
       "      <td>CHEMBL179549</td>\n",
       "      <td>CCCN1C(=O)c2ccccc2C1(NC(=O)c1ccc(C(C)(C)C)cc1)...</td>\n",
       "      <td>27000.00</td>\n",
       "      <td>inactive</td>\n",
       "    </tr>\n",
       "    <tr>\n",
       "      <th>1</th>\n",
       "      <td>CHEMBL360920</td>\n",
       "      <td>CCCN1C(=O)c2ccccc2C1(NC(=O)c1ccccc1)c1ccc(C(C)...</td>\n",
       "      <td>66000.00</td>\n",
       "      <td>inactive</td>\n",
       "    </tr>\n",
       "    <tr>\n",
       "      <th>2</th>\n",
       "      <td>CHEMBL182052</td>\n",
       "      <td>CCCOC1(c2ccccc2)c2ccccc2C(=O)N1C(Cc1ccc(O)cc1)...</td>\n",
       "      <td>90000.00</td>\n",
       "      <td>inactive</td>\n",
       "    </tr>\n",
       "    <tr>\n",
       "      <th>3</th>\n",
       "      <td>CHEMBL179662</td>\n",
       "      <td>OCC(NC1(c2ccccc2)c2ccccc2CC1Cc1ccccc1)C(O)c1cc...</td>\n",
       "      <td>85000.00</td>\n",
       "      <td>inactive</td>\n",
       "    </tr>\n",
       "    <tr>\n",
       "      <th>4</th>\n",
       "      <td>CHEMBL181688</td>\n",
       "      <td>CC(C)(C)c1ccc(COC2(c3ccccc3)c3ccccc3C(=O)N2Cc2...</td>\n",
       "      <td>92000.00</td>\n",
       "      <td>inactive</td>\n",
       "    </tr>\n",
       "    <tr>\n",
       "      <th>...</th>\n",
       "      <td>...</td>\n",
       "      <td>...</td>\n",
       "      <td>...</td>\n",
       "      <td>...</td>\n",
       "    </tr>\n",
       "    <tr>\n",
       "      <th>1290</th>\n",
       "      <td>CHEMBL3649967</td>\n",
       "      <td>CCOC(c1nc2cc(-c3noc(=O)[nH]3)nc(-c3cncc(Cl)c3)...</td>\n",
       "      <td>1.20</td>\n",
       "      <td>active</td>\n",
       "    </tr>\n",
       "    <tr>\n",
       "      <th>1291</th>\n",
       "      <td>CHEMBL5092438</td>\n",
       "      <td>COCC(C)c1nc2cc(-c3noc(=O)[nH]3)nc(-c3cncc(Cl)c...</td>\n",
       "      <td>1.60</td>\n",
       "      <td>active</td>\n",
       "    </tr>\n",
       "    <tr>\n",
       "      <th>1292</th>\n",
       "      <td>CHEMBL5089893</td>\n",
       "      <td>CCO[C@@H](c1nc2cc(-c3noc(=O)[nH]3)nc(-c3cncc(C...</td>\n",
       "      <td>0.35</td>\n",
       "      <td>active</td>\n",
       "    </tr>\n",
       "    <tr>\n",
       "      <th>1293</th>\n",
       "      <td>CHEMBL5085142</td>\n",
       "      <td>Cc1cccc(-c2nc3nc(C(=O)O)nc(NCC4CC4)c3n2CC2CCCC...</td>\n",
       "      <td>8400.00</td>\n",
       "      <td>intermediate</td>\n",
       "    </tr>\n",
       "    <tr>\n",
       "      <th>1294</th>\n",
       "      <td>CHEMBL5084175</td>\n",
       "      <td>C[C@@H](Nc1nc(C(=O)O)nc2nc(-c3ccc4sccc4c3)n(Cc...</td>\n",
       "      <td>260.00</td>\n",
       "      <td>active</td>\n",
       "    </tr>\n",
       "  </tbody>\n",
       "</table>\n",
       "<p>1295 rows × 4 columns</p>\n",
       "</div>"
      ],
      "text/plain": [
       "     molecule_chembl_id                                   canonical_smiles  \\\n",
       "0          CHEMBL179549  CCCN1C(=O)c2ccccc2C1(NC(=O)c1ccc(C(C)(C)C)cc1)...   \n",
       "1          CHEMBL360920  CCCN1C(=O)c2ccccc2C1(NC(=O)c1ccccc1)c1ccc(C(C)...   \n",
       "2          CHEMBL182052  CCCOC1(c2ccccc2)c2ccccc2C(=O)N1C(Cc1ccc(O)cc1)...   \n",
       "3          CHEMBL179662  OCC(NC1(c2ccccc2)c2ccccc2CC1Cc1ccccc1)C(O)c1cc...   \n",
       "4          CHEMBL181688  CC(C)(C)c1ccc(COC2(c3ccccc3)c3ccccc3C(=O)N2Cc2...   \n",
       "...                 ...                                                ...   \n",
       "1290      CHEMBL3649967  CCOC(c1nc2cc(-c3noc(=O)[nH]3)nc(-c3cncc(Cl)c3)...   \n",
       "1291      CHEMBL5092438  COCC(C)c1nc2cc(-c3noc(=O)[nH]3)nc(-c3cncc(Cl)c...   \n",
       "1292      CHEMBL5089893  CCO[C@@H](c1nc2cc(-c3noc(=O)[nH]3)nc(-c3cncc(C...   \n",
       "1293      CHEMBL5085142  Cc1cccc(-c2nc3nc(C(=O)O)nc(NCC4CC4)c3n2CC2CCCC...   \n",
       "1294      CHEMBL5084175  C[C@@H](Nc1nc(C(=O)O)nc2nc(-c3ccc4sccc4c3)n(Cc...   \n",
       "\n",
       "      standard_value         class  \n",
       "0           27000.00      inactive  \n",
       "1           66000.00      inactive  \n",
       "2           90000.00      inactive  \n",
       "3           85000.00      inactive  \n",
       "4           92000.00      inactive  \n",
       "...              ...           ...  \n",
       "1290            1.20        active  \n",
       "1291            1.60        active  \n",
       "1292            0.35        active  \n",
       "1293         8400.00  intermediate  \n",
       "1294          260.00        active  \n",
       "\n",
       "[1295 rows x 4 columns]"
      ]
     },
     "execution_count": 19,
     "metadata": {},
     "output_type": "execute_result"
    }
   ],
   "source": [
    "df6"
   ]
  },
  {
   "cell_type": "code",
   "execution_count": 20,
   "id": "3c72bb1d",
   "metadata": {},
   "outputs": [
    {
     "data": {
      "text/html": [
       "<div>\n",
       "<style scoped>\n",
       "    .dataframe tbody tr th:only-of-type {\n",
       "        vertical-align: middle;\n",
       "    }\n",
       "\n",
       "    .dataframe tbody tr th {\n",
       "        vertical-align: top;\n",
       "    }\n",
       "\n",
       "    .dataframe thead th {\n",
       "        text-align: right;\n",
       "    }\n",
       "</style>\n",
       "<table border=\"1\" class=\"dataframe\">\n",
       "  <thead>\n",
       "    <tr style=\"text-align: right;\">\n",
       "      <th></th>\n",
       "      <th>molecule_chembl_id</th>\n",
       "      <th>canonical_smiles</th>\n",
       "      <th>standard_value</th>\n",
       "      <th>class</th>\n",
       "      <th>MW</th>\n",
       "      <th>LogP</th>\n",
       "      <th>NumHDonors</th>\n",
       "      <th>NumHAcceptors</th>\n",
       "    </tr>\n",
       "  </thead>\n",
       "  <tbody>\n",
       "    <tr>\n",
       "      <th>0</th>\n",
       "      <td>CHEMBL179549</td>\n",
       "      <td>CCCN1C(=O)c2ccccc2C1(NC(=O)c1ccc(C(C)(C)C)cc1)...</td>\n",
       "      <td>27000.00</td>\n",
       "      <td>inactive</td>\n",
       "      <td>572.822</td>\n",
       "      <td>7.17210</td>\n",
       "      <td>1.0</td>\n",
       "      <td>4.0</td>\n",
       "    </tr>\n",
       "    <tr>\n",
       "      <th>1</th>\n",
       "      <td>CHEMBL360920</td>\n",
       "      <td>CCCN1C(=O)c2ccccc2C1(NC(=O)c1ccccc1)c1ccc(C(C)...</td>\n",
       "      <td>66000.00</td>\n",
       "      <td>inactive</td>\n",
       "      <td>426.560</td>\n",
       "      <td>5.48100</td>\n",
       "      <td>1.0</td>\n",
       "      <td>2.0</td>\n",
       "    </tr>\n",
       "    <tr>\n",
       "      <th>2</th>\n",
       "      <td>CHEMBL182052</td>\n",
       "      <td>CCCOC1(c2ccccc2)c2ccccc2C(=O)N1C(Cc1ccc(O)cc1)...</td>\n",
       "      <td>90000.00</td>\n",
       "      <td>inactive</td>\n",
       "      <td>445.515</td>\n",
       "      <td>4.26000</td>\n",
       "      <td>1.0</td>\n",
       "      <td>5.0</td>\n",
       "    </tr>\n",
       "    <tr>\n",
       "      <th>3</th>\n",
       "      <td>CHEMBL179662</td>\n",
       "      <td>OCC(NC1(c2ccccc2)c2ccccc2CC1Cc1ccccc1)C(O)c1cc...</td>\n",
       "      <td>85000.00</td>\n",
       "      <td>inactive</td>\n",
       "      <td>449.594</td>\n",
       "      <td>5.02930</td>\n",
       "      <td>3.0</td>\n",
       "      <td>3.0</td>\n",
       "    </tr>\n",
       "    <tr>\n",
       "      <th>4</th>\n",
       "      <td>CHEMBL181688</td>\n",
       "      <td>CC(C)(C)c1ccc(COC2(c3ccccc3)c3ccccc3C(=O)N2Cc2...</td>\n",
       "      <td>92000.00</td>\n",
       "      <td>inactive</td>\n",
       "      <td>461.605</td>\n",
       "      <td>7.05800</td>\n",
       "      <td>0.0</td>\n",
       "      <td>2.0</td>\n",
       "    </tr>\n",
       "    <tr>\n",
       "      <th>...</th>\n",
       "      <td>...</td>\n",
       "      <td>...</td>\n",
       "      <td>...</td>\n",
       "      <td>...</td>\n",
       "      <td>...</td>\n",
       "      <td>...</td>\n",
       "      <td>...</td>\n",
       "      <td>...</td>\n",
       "    </tr>\n",
       "    <tr>\n",
       "      <th>1290</th>\n",
       "      <td>CHEMBL3649967</td>\n",
       "      <td>CCOC(c1nc2cc(-c3noc(=O)[nH]3)nc(-c3cncc(Cl)c3)...</td>\n",
       "      <td>1.20</td>\n",
       "      <td>active</td>\n",
       "      <td>523.037</td>\n",
       "      <td>5.80390</td>\n",
       "      <td>1.0</td>\n",
       "      <td>8.0</td>\n",
       "    </tr>\n",
       "    <tr>\n",
       "      <th>1291</th>\n",
       "      <td>CHEMBL5092438</td>\n",
       "      <td>COCC(C)c1nc2cc(-c3noc(=O)[nH]3)nc(-c3cncc(Cl)c...</td>\n",
       "      <td>1.60</td>\n",
       "      <td>active</td>\n",
       "      <td>511.026</td>\n",
       "      <td>5.62720</td>\n",
       "      <td>1.0</td>\n",
       "      <td>8.0</td>\n",
       "    </tr>\n",
       "    <tr>\n",
       "      <th>1292</th>\n",
       "      <td>CHEMBL5089893</td>\n",
       "      <td>CCO[C@@H](c1nc2cc(-c3noc(=O)[nH]3)nc(-c3cncc(C...</td>\n",
       "      <td>0.35</td>\n",
       "      <td>active</td>\n",
       "      <td>537.064</td>\n",
       "      <td>6.36490</td>\n",
       "      <td>1.0</td>\n",
       "      <td>8.0</td>\n",
       "    </tr>\n",
       "    <tr>\n",
       "      <th>1293</th>\n",
       "      <td>CHEMBL5085142</td>\n",
       "      <td>Cc1cccc(-c2nc3nc(C(=O)O)nc(NCC4CC4)c3n2CC2CCCC...</td>\n",
       "      <td>8400.00</td>\n",
       "      <td>intermediate</td>\n",
       "      <td>419.529</td>\n",
       "      <td>4.90212</td>\n",
       "      <td>2.0</td>\n",
       "      <td>6.0</td>\n",
       "    </tr>\n",
       "    <tr>\n",
       "      <th>1294</th>\n",
       "      <td>CHEMBL5084175</td>\n",
       "      <td>C[C@@H](Nc1nc(C(=O)O)nc2nc(-c3ccc4sccc4c3)n(Cc...</td>\n",
       "      <td>260.00</td>\n",
       "      <td>active</td>\n",
       "      <td>504.015</td>\n",
       "      <td>6.31830</td>\n",
       "      <td>2.0</td>\n",
       "      <td>7.0</td>\n",
       "    </tr>\n",
       "  </tbody>\n",
       "</table>\n",
       "<p>1295 rows × 8 columns</p>\n",
       "</div>"
      ],
      "text/plain": [
       "     molecule_chembl_id                                   canonical_smiles  \\\n",
       "0          CHEMBL179549  CCCN1C(=O)c2ccccc2C1(NC(=O)c1ccc(C(C)(C)C)cc1)...   \n",
       "1          CHEMBL360920  CCCN1C(=O)c2ccccc2C1(NC(=O)c1ccccc1)c1ccc(C(C)...   \n",
       "2          CHEMBL182052  CCCOC1(c2ccccc2)c2ccccc2C(=O)N1C(Cc1ccc(O)cc1)...   \n",
       "3          CHEMBL179662  OCC(NC1(c2ccccc2)c2ccccc2CC1Cc1ccccc1)C(O)c1cc...   \n",
       "4          CHEMBL181688  CC(C)(C)c1ccc(COC2(c3ccccc3)c3ccccc3C(=O)N2Cc2...   \n",
       "...                 ...                                                ...   \n",
       "1290      CHEMBL3649967  CCOC(c1nc2cc(-c3noc(=O)[nH]3)nc(-c3cncc(Cl)c3)...   \n",
       "1291      CHEMBL5092438  COCC(C)c1nc2cc(-c3noc(=O)[nH]3)nc(-c3cncc(Cl)c...   \n",
       "1292      CHEMBL5089893  CCO[C@@H](c1nc2cc(-c3noc(=O)[nH]3)nc(-c3cncc(C...   \n",
       "1293      CHEMBL5085142  Cc1cccc(-c2nc3nc(C(=O)O)nc(NCC4CC4)c3n2CC2CCCC...   \n",
       "1294      CHEMBL5084175  C[C@@H](Nc1nc(C(=O)O)nc2nc(-c3ccc4sccc4c3)n(Cc...   \n",
       "\n",
       "      standard_value         class       MW     LogP  NumHDonors  \\\n",
       "0           27000.00      inactive  572.822  7.17210         1.0   \n",
       "1           66000.00      inactive  426.560  5.48100         1.0   \n",
       "2           90000.00      inactive  445.515  4.26000         1.0   \n",
       "3           85000.00      inactive  449.594  5.02930         3.0   \n",
       "4           92000.00      inactive  461.605  7.05800         0.0   \n",
       "...              ...           ...      ...      ...         ...   \n",
       "1290            1.20        active  523.037  5.80390         1.0   \n",
       "1291            1.60        active  511.026  5.62720         1.0   \n",
       "1292            0.35        active  537.064  6.36490         1.0   \n",
       "1293         8400.00  intermediate  419.529  4.90212         2.0   \n",
       "1294          260.00        active  504.015  6.31830         2.0   \n",
       "\n",
       "      NumHAcceptors  \n",
       "0               4.0  \n",
       "1               2.0  \n",
       "2               5.0  \n",
       "3               3.0  \n",
       "4               2.0  \n",
       "...             ...  \n",
       "1290            8.0  \n",
       "1291            8.0  \n",
       "1292            8.0  \n",
       "1293            6.0  \n",
       "1294            7.0  \n",
       "\n",
       "[1295 rows x 8 columns]"
      ]
     },
     "execution_count": 20,
     "metadata": {},
     "output_type": "execute_result"
    }
   ],
   "source": [
    "df_combined = pd.concat([df6,df_lipinski], axis=1)\n",
    "df_combined"
   ]
  },
  {
   "cell_type": "markdown",
   "id": "c5e96141",
   "metadata": {},
   "source": [
    "### Convert IC50 to pIC50"
   ]
  },
  {
   "cell_type": "raw",
   "id": "ff1e309b",
   "metadata": {},
   "source": [
    "To allow IC50 data to be more uniformly distributed, we will convert IC50 to the negative logarithmic scale which is essentially -log10(IC50).\n",
    "\n",
    "This custom function pIC50() will accept a DataFrame as input and will:\n",
    "\n",
    "Take the IC50 values from the standard_value column and converts it from nM to M by multiplying the value by 10\n",
    "Take the molar value and apply -log10\n",
    "Delete the standard_value column and create a new pIC50 column"
   ]
  },
  {
   "cell_type": "code",
   "execution_count": 21,
   "id": "85a51a0d",
   "metadata": {},
   "outputs": [],
   "source": [
    "# https://github.com/chaninlab/estrogen-receptor-alpha-qsar/blob/master/02_ER_alpha_RO5.ipynb\n",
    "\n",
    "import numpy as np\n",
    "\n",
    "def pIC50(input):\n",
    "    pIC50 = []\n",
    "\n",
    "    for i in input['standard_value_norm']:\n",
    "        molar = i*(10**-9) # Converts nM to M\n",
    "        pIC50.append(-np.log10(molar))\n",
    "\n",
    "    input['pIC50'] = pIC50\n",
    "    x = input.drop('standard_value_norm', 1)\n",
    "        \n",
    "    return x"
   ]
  },
  {
   "cell_type": "raw",
   "id": "a47a9e0f",
   "metadata": {},
   "source": [
    "Point to note: Values greater than 100,000,000 will be fixed at 100,000,000 otherwise the negative \n",
    "logarithmic value will become negative."
   ]
  },
  {
   "cell_type": "code",
   "execution_count": 22,
   "id": "8ab0bddf",
   "metadata": {},
   "outputs": [
    {
     "data": {
      "text/plain": [
       "count    1.295000e+03\n",
       "mean     2.799230e+04\n",
       "std      9.508121e+04\n",
       "min      6.100000e-02\n",
       "25%      1.681500e+00\n",
       "50%      4.600000e+01\n",
       "75%      2.080000e+03\n",
       "max      1.018000e+06\n",
       "Name: standard_value, dtype: float64"
      ]
     },
     "execution_count": 22,
     "metadata": {},
     "output_type": "execute_result"
    }
   ],
   "source": [
    "df_combined.standard_value.describe()"
   ]
  },
  {
   "cell_type": "code",
   "execution_count": 23,
   "id": "eebd49af",
   "metadata": {},
   "outputs": [
    {
     "data": {
      "text/plain": [
       "1.0"
      ]
     },
     "execution_count": 23,
     "metadata": {},
     "output_type": "execute_result"
    }
   ],
   "source": [
    "-np.log10( (10**-9)* 100000000 )"
   ]
  },
  {
   "cell_type": "code",
   "execution_count": 24,
   "id": "c4a686ec",
   "metadata": {},
   "outputs": [
    {
     "data": {
      "text/plain": [
       "-1.0"
      ]
     },
     "execution_count": 24,
     "metadata": {},
     "output_type": "execute_result"
    }
   ],
   "source": [
    "-np.log10( (10**-9)* 10000000000 )"
   ]
  },
  {
   "cell_type": "code",
   "execution_count": 25,
   "id": "70b2f552",
   "metadata": {},
   "outputs": [],
   "source": [
    "def norm_value(input):\n",
    "    norm = []\n",
    "\n",
    "    for i in input['standard_value']:\n",
    "        if i > 100000000:\n",
    "          i = 100000000\n",
    "        norm.append(i)\n",
    "\n",
    "    input['standard_value_norm'] = norm\n",
    "    x = input.drop('standard_value', 1)\n",
    "        \n",
    "    return x"
   ]
  },
  {
   "cell_type": "raw",
   "id": "5dc99726",
   "metadata": {},
   "source": [
    "firstly, applying the norm_value() function so that the values in the standard_value column is normalized."
   ]
  },
  {
   "cell_type": "code",
   "execution_count": 26,
   "id": "57d4d28d",
   "metadata": {},
   "outputs": [
    {
     "name": "stderr",
     "output_type": "stream",
     "text": [
      "C:\\Users\\tahi3002\\AppData\\Local\\Temp\\1\\ipykernel_13156\\3416609517.py:10: FutureWarning: In a future version of pandas all arguments of DataFrame.drop except for the argument 'labels' will be keyword-only.\n",
      "  x = input.drop('standard_value', 1)\n"
     ]
    },
    {
     "data": {
      "text/html": [
       "<div>\n",
       "<style scoped>\n",
       "    .dataframe tbody tr th:only-of-type {\n",
       "        vertical-align: middle;\n",
       "    }\n",
       "\n",
       "    .dataframe tbody tr th {\n",
       "        vertical-align: top;\n",
       "    }\n",
       "\n",
       "    .dataframe thead th {\n",
       "        text-align: right;\n",
       "    }\n",
       "</style>\n",
       "<table border=\"1\" class=\"dataframe\">\n",
       "  <thead>\n",
       "    <tr style=\"text-align: right;\">\n",
       "      <th></th>\n",
       "      <th>molecule_chembl_id</th>\n",
       "      <th>canonical_smiles</th>\n",
       "      <th>class</th>\n",
       "      <th>MW</th>\n",
       "      <th>LogP</th>\n",
       "      <th>NumHDonors</th>\n",
       "      <th>NumHAcceptors</th>\n",
       "      <th>standard_value_norm</th>\n",
       "    </tr>\n",
       "  </thead>\n",
       "  <tbody>\n",
       "    <tr>\n",
       "      <th>0</th>\n",
       "      <td>CHEMBL179549</td>\n",
       "      <td>CCCN1C(=O)c2ccccc2C1(NC(=O)c1ccc(C(C)(C)C)cc1)...</td>\n",
       "      <td>inactive</td>\n",
       "      <td>572.822</td>\n",
       "      <td>7.17210</td>\n",
       "      <td>1.0</td>\n",
       "      <td>4.0</td>\n",
       "      <td>27000.00</td>\n",
       "    </tr>\n",
       "    <tr>\n",
       "      <th>1</th>\n",
       "      <td>CHEMBL360920</td>\n",
       "      <td>CCCN1C(=O)c2ccccc2C1(NC(=O)c1ccccc1)c1ccc(C(C)...</td>\n",
       "      <td>inactive</td>\n",
       "      <td>426.560</td>\n",
       "      <td>5.48100</td>\n",
       "      <td>1.0</td>\n",
       "      <td>2.0</td>\n",
       "      <td>66000.00</td>\n",
       "    </tr>\n",
       "    <tr>\n",
       "      <th>2</th>\n",
       "      <td>CHEMBL182052</td>\n",
       "      <td>CCCOC1(c2ccccc2)c2ccccc2C(=O)N1C(Cc1ccc(O)cc1)...</td>\n",
       "      <td>inactive</td>\n",
       "      <td>445.515</td>\n",
       "      <td>4.26000</td>\n",
       "      <td>1.0</td>\n",
       "      <td>5.0</td>\n",
       "      <td>90000.00</td>\n",
       "    </tr>\n",
       "    <tr>\n",
       "      <th>3</th>\n",
       "      <td>CHEMBL179662</td>\n",
       "      <td>OCC(NC1(c2ccccc2)c2ccccc2CC1Cc1ccccc1)C(O)c1cc...</td>\n",
       "      <td>inactive</td>\n",
       "      <td>449.594</td>\n",
       "      <td>5.02930</td>\n",
       "      <td>3.0</td>\n",
       "      <td>3.0</td>\n",
       "      <td>85000.00</td>\n",
       "    </tr>\n",
       "    <tr>\n",
       "      <th>4</th>\n",
       "      <td>CHEMBL181688</td>\n",
       "      <td>CC(C)(C)c1ccc(COC2(c3ccccc3)c3ccccc3C(=O)N2Cc2...</td>\n",
       "      <td>inactive</td>\n",
       "      <td>461.605</td>\n",
       "      <td>7.05800</td>\n",
       "      <td>0.0</td>\n",
       "      <td>2.0</td>\n",
       "      <td>92000.00</td>\n",
       "    </tr>\n",
       "    <tr>\n",
       "      <th>...</th>\n",
       "      <td>...</td>\n",
       "      <td>...</td>\n",
       "      <td>...</td>\n",
       "      <td>...</td>\n",
       "      <td>...</td>\n",
       "      <td>...</td>\n",
       "      <td>...</td>\n",
       "      <td>...</td>\n",
       "    </tr>\n",
       "    <tr>\n",
       "      <th>1290</th>\n",
       "      <td>CHEMBL3649967</td>\n",
       "      <td>CCOC(c1nc2cc(-c3noc(=O)[nH]3)nc(-c3cncc(Cl)c3)...</td>\n",
       "      <td>active</td>\n",
       "      <td>523.037</td>\n",
       "      <td>5.80390</td>\n",
       "      <td>1.0</td>\n",
       "      <td>8.0</td>\n",
       "      <td>1.20</td>\n",
       "    </tr>\n",
       "    <tr>\n",
       "      <th>1291</th>\n",
       "      <td>CHEMBL5092438</td>\n",
       "      <td>COCC(C)c1nc2cc(-c3noc(=O)[nH]3)nc(-c3cncc(Cl)c...</td>\n",
       "      <td>active</td>\n",
       "      <td>511.026</td>\n",
       "      <td>5.62720</td>\n",
       "      <td>1.0</td>\n",
       "      <td>8.0</td>\n",
       "      <td>1.60</td>\n",
       "    </tr>\n",
       "    <tr>\n",
       "      <th>1292</th>\n",
       "      <td>CHEMBL5089893</td>\n",
       "      <td>CCO[C@@H](c1nc2cc(-c3noc(=O)[nH]3)nc(-c3cncc(C...</td>\n",
       "      <td>active</td>\n",
       "      <td>537.064</td>\n",
       "      <td>6.36490</td>\n",
       "      <td>1.0</td>\n",
       "      <td>8.0</td>\n",
       "      <td>0.35</td>\n",
       "    </tr>\n",
       "    <tr>\n",
       "      <th>1293</th>\n",
       "      <td>CHEMBL5085142</td>\n",
       "      <td>Cc1cccc(-c2nc3nc(C(=O)O)nc(NCC4CC4)c3n2CC2CCCC...</td>\n",
       "      <td>intermediate</td>\n",
       "      <td>419.529</td>\n",
       "      <td>4.90212</td>\n",
       "      <td>2.0</td>\n",
       "      <td>6.0</td>\n",
       "      <td>8400.00</td>\n",
       "    </tr>\n",
       "    <tr>\n",
       "      <th>1294</th>\n",
       "      <td>CHEMBL5084175</td>\n",
       "      <td>C[C@@H](Nc1nc(C(=O)O)nc2nc(-c3ccc4sccc4c3)n(Cc...</td>\n",
       "      <td>active</td>\n",
       "      <td>504.015</td>\n",
       "      <td>6.31830</td>\n",
       "      <td>2.0</td>\n",
       "      <td>7.0</td>\n",
       "      <td>260.00</td>\n",
       "    </tr>\n",
       "  </tbody>\n",
       "</table>\n",
       "<p>1295 rows × 8 columns</p>\n",
       "</div>"
      ],
      "text/plain": [
       "     molecule_chembl_id                                   canonical_smiles  \\\n",
       "0          CHEMBL179549  CCCN1C(=O)c2ccccc2C1(NC(=O)c1ccc(C(C)(C)C)cc1)...   \n",
       "1          CHEMBL360920  CCCN1C(=O)c2ccccc2C1(NC(=O)c1ccccc1)c1ccc(C(C)...   \n",
       "2          CHEMBL182052  CCCOC1(c2ccccc2)c2ccccc2C(=O)N1C(Cc1ccc(O)cc1)...   \n",
       "3          CHEMBL179662  OCC(NC1(c2ccccc2)c2ccccc2CC1Cc1ccccc1)C(O)c1cc...   \n",
       "4          CHEMBL181688  CC(C)(C)c1ccc(COC2(c3ccccc3)c3ccccc3C(=O)N2Cc2...   \n",
       "...                 ...                                                ...   \n",
       "1290      CHEMBL3649967  CCOC(c1nc2cc(-c3noc(=O)[nH]3)nc(-c3cncc(Cl)c3)...   \n",
       "1291      CHEMBL5092438  COCC(C)c1nc2cc(-c3noc(=O)[nH]3)nc(-c3cncc(Cl)c...   \n",
       "1292      CHEMBL5089893  CCO[C@@H](c1nc2cc(-c3noc(=O)[nH]3)nc(-c3cncc(C...   \n",
       "1293      CHEMBL5085142  Cc1cccc(-c2nc3nc(C(=O)O)nc(NCC4CC4)c3n2CC2CCCC...   \n",
       "1294      CHEMBL5084175  C[C@@H](Nc1nc(C(=O)O)nc2nc(-c3ccc4sccc4c3)n(Cc...   \n",
       "\n",
       "             class       MW     LogP  NumHDonors  NumHAcceptors  \\\n",
       "0         inactive  572.822  7.17210         1.0            4.0   \n",
       "1         inactive  426.560  5.48100         1.0            2.0   \n",
       "2         inactive  445.515  4.26000         1.0            5.0   \n",
       "3         inactive  449.594  5.02930         3.0            3.0   \n",
       "4         inactive  461.605  7.05800         0.0            2.0   \n",
       "...            ...      ...      ...         ...            ...   \n",
       "1290        active  523.037  5.80390         1.0            8.0   \n",
       "1291        active  511.026  5.62720         1.0            8.0   \n",
       "1292        active  537.064  6.36490         1.0            8.0   \n",
       "1293  intermediate  419.529  4.90212         2.0            6.0   \n",
       "1294        active  504.015  6.31830         2.0            7.0   \n",
       "\n",
       "      standard_value_norm  \n",
       "0                27000.00  \n",
       "1                66000.00  \n",
       "2                90000.00  \n",
       "3                85000.00  \n",
       "4                92000.00  \n",
       "...                   ...  \n",
       "1290                 1.20  \n",
       "1291                 1.60  \n",
       "1292                 0.35  \n",
       "1293              8400.00  \n",
       "1294               260.00  \n",
       "\n",
       "[1295 rows x 8 columns]"
      ]
     },
     "execution_count": 26,
     "metadata": {},
     "output_type": "execute_result"
    }
   ],
   "source": [
    "df_norm = norm_value(df_combined)\n",
    "df_norm"
   ]
  },
  {
   "cell_type": "code",
   "execution_count": 27,
   "id": "c63159aa",
   "metadata": {},
   "outputs": [
    {
     "data": {
      "text/plain": [
       "count    1.295000e+03\n",
       "mean     2.799230e+04\n",
       "std      9.508121e+04\n",
       "min      6.100000e-02\n",
       "25%      1.681500e+00\n",
       "50%      4.600000e+01\n",
       "75%      2.080000e+03\n",
       "max      1.018000e+06\n",
       "Name: standard_value_norm, dtype: float64"
      ]
     },
     "execution_count": 27,
     "metadata": {},
     "output_type": "execute_result"
    }
   ],
   "source": [
    "df_norm.standard_value_norm.describe()"
   ]
  },
  {
   "cell_type": "code",
   "execution_count": 28,
   "id": "c1140d16",
   "metadata": {},
   "outputs": [
    {
     "name": "stderr",
     "output_type": "stream",
     "text": [
      "C:\\Users\\tahi3002\\AppData\\Local\\Temp\\1\\ipykernel_13156\\3442786292.py:13: FutureWarning: In a future version of pandas all arguments of DataFrame.drop except for the argument 'labels' will be keyword-only.\n",
      "  x = input.drop('standard_value_norm', 1)\n"
     ]
    },
    {
     "data": {
      "text/html": [
       "<div>\n",
       "<style scoped>\n",
       "    .dataframe tbody tr th:only-of-type {\n",
       "        vertical-align: middle;\n",
       "    }\n",
       "\n",
       "    .dataframe tbody tr th {\n",
       "        vertical-align: top;\n",
       "    }\n",
       "\n",
       "    .dataframe thead th {\n",
       "        text-align: right;\n",
       "    }\n",
       "</style>\n",
       "<table border=\"1\" class=\"dataframe\">\n",
       "  <thead>\n",
       "    <tr style=\"text-align: right;\">\n",
       "      <th></th>\n",
       "      <th>molecule_chembl_id</th>\n",
       "      <th>canonical_smiles</th>\n",
       "      <th>class</th>\n",
       "      <th>MW</th>\n",
       "      <th>LogP</th>\n",
       "      <th>NumHDonors</th>\n",
       "      <th>NumHAcceptors</th>\n",
       "      <th>pIC50</th>\n",
       "    </tr>\n",
       "  </thead>\n",
       "  <tbody>\n",
       "    <tr>\n",
       "      <th>0</th>\n",
       "      <td>CHEMBL179549</td>\n",
       "      <td>CCCN1C(=O)c2ccccc2C1(NC(=O)c1ccc(C(C)(C)C)cc1)...</td>\n",
       "      <td>inactive</td>\n",
       "      <td>572.822</td>\n",
       "      <td>7.17210</td>\n",
       "      <td>1.0</td>\n",
       "      <td>4.0</td>\n",
       "      <td>4.568636</td>\n",
       "    </tr>\n",
       "    <tr>\n",
       "      <th>1</th>\n",
       "      <td>CHEMBL360920</td>\n",
       "      <td>CCCN1C(=O)c2ccccc2C1(NC(=O)c1ccccc1)c1ccc(C(C)...</td>\n",
       "      <td>inactive</td>\n",
       "      <td>426.560</td>\n",
       "      <td>5.48100</td>\n",
       "      <td>1.0</td>\n",
       "      <td>2.0</td>\n",
       "      <td>4.180456</td>\n",
       "    </tr>\n",
       "    <tr>\n",
       "      <th>2</th>\n",
       "      <td>CHEMBL182052</td>\n",
       "      <td>CCCOC1(c2ccccc2)c2ccccc2C(=O)N1C(Cc1ccc(O)cc1)...</td>\n",
       "      <td>inactive</td>\n",
       "      <td>445.515</td>\n",
       "      <td>4.26000</td>\n",
       "      <td>1.0</td>\n",
       "      <td>5.0</td>\n",
       "      <td>4.045757</td>\n",
       "    </tr>\n",
       "    <tr>\n",
       "      <th>3</th>\n",
       "      <td>CHEMBL179662</td>\n",
       "      <td>OCC(NC1(c2ccccc2)c2ccccc2CC1Cc1ccccc1)C(O)c1cc...</td>\n",
       "      <td>inactive</td>\n",
       "      <td>449.594</td>\n",
       "      <td>5.02930</td>\n",
       "      <td>3.0</td>\n",
       "      <td>3.0</td>\n",
       "      <td>4.070581</td>\n",
       "    </tr>\n",
       "    <tr>\n",
       "      <th>4</th>\n",
       "      <td>CHEMBL181688</td>\n",
       "      <td>CC(C)(C)c1ccc(COC2(c3ccccc3)c3ccccc3C(=O)N2Cc2...</td>\n",
       "      <td>inactive</td>\n",
       "      <td>461.605</td>\n",
       "      <td>7.05800</td>\n",
       "      <td>0.0</td>\n",
       "      <td>2.0</td>\n",
       "      <td>4.036212</td>\n",
       "    </tr>\n",
       "    <tr>\n",
       "      <th>...</th>\n",
       "      <td>...</td>\n",
       "      <td>...</td>\n",
       "      <td>...</td>\n",
       "      <td>...</td>\n",
       "      <td>...</td>\n",
       "      <td>...</td>\n",
       "      <td>...</td>\n",
       "      <td>...</td>\n",
       "    </tr>\n",
       "    <tr>\n",
       "      <th>1290</th>\n",
       "      <td>CHEMBL3649967</td>\n",
       "      <td>CCOC(c1nc2cc(-c3noc(=O)[nH]3)nc(-c3cncc(Cl)c3)...</td>\n",
       "      <td>active</td>\n",
       "      <td>523.037</td>\n",
       "      <td>5.80390</td>\n",
       "      <td>1.0</td>\n",
       "      <td>8.0</td>\n",
       "      <td>8.920819</td>\n",
       "    </tr>\n",
       "    <tr>\n",
       "      <th>1291</th>\n",
       "      <td>CHEMBL5092438</td>\n",
       "      <td>COCC(C)c1nc2cc(-c3noc(=O)[nH]3)nc(-c3cncc(Cl)c...</td>\n",
       "      <td>active</td>\n",
       "      <td>511.026</td>\n",
       "      <td>5.62720</td>\n",
       "      <td>1.0</td>\n",
       "      <td>8.0</td>\n",
       "      <td>8.795880</td>\n",
       "    </tr>\n",
       "    <tr>\n",
       "      <th>1292</th>\n",
       "      <td>CHEMBL5089893</td>\n",
       "      <td>CCO[C@@H](c1nc2cc(-c3noc(=O)[nH]3)nc(-c3cncc(C...</td>\n",
       "      <td>active</td>\n",
       "      <td>537.064</td>\n",
       "      <td>6.36490</td>\n",
       "      <td>1.0</td>\n",
       "      <td>8.0</td>\n",
       "      <td>9.455932</td>\n",
       "    </tr>\n",
       "    <tr>\n",
       "      <th>1293</th>\n",
       "      <td>CHEMBL5085142</td>\n",
       "      <td>Cc1cccc(-c2nc3nc(C(=O)O)nc(NCC4CC4)c3n2CC2CCCC...</td>\n",
       "      <td>intermediate</td>\n",
       "      <td>419.529</td>\n",
       "      <td>4.90212</td>\n",
       "      <td>2.0</td>\n",
       "      <td>6.0</td>\n",
       "      <td>5.075721</td>\n",
       "    </tr>\n",
       "    <tr>\n",
       "      <th>1294</th>\n",
       "      <td>CHEMBL5084175</td>\n",
       "      <td>C[C@@H](Nc1nc(C(=O)O)nc2nc(-c3ccc4sccc4c3)n(Cc...</td>\n",
       "      <td>active</td>\n",
       "      <td>504.015</td>\n",
       "      <td>6.31830</td>\n",
       "      <td>2.0</td>\n",
       "      <td>7.0</td>\n",
       "      <td>6.585027</td>\n",
       "    </tr>\n",
       "  </tbody>\n",
       "</table>\n",
       "<p>1295 rows × 8 columns</p>\n",
       "</div>"
      ],
      "text/plain": [
       "     molecule_chembl_id                                   canonical_smiles  \\\n",
       "0          CHEMBL179549  CCCN1C(=O)c2ccccc2C1(NC(=O)c1ccc(C(C)(C)C)cc1)...   \n",
       "1          CHEMBL360920  CCCN1C(=O)c2ccccc2C1(NC(=O)c1ccccc1)c1ccc(C(C)...   \n",
       "2          CHEMBL182052  CCCOC1(c2ccccc2)c2ccccc2C(=O)N1C(Cc1ccc(O)cc1)...   \n",
       "3          CHEMBL179662  OCC(NC1(c2ccccc2)c2ccccc2CC1Cc1ccccc1)C(O)c1cc...   \n",
       "4          CHEMBL181688  CC(C)(C)c1ccc(COC2(c3ccccc3)c3ccccc3C(=O)N2Cc2...   \n",
       "...                 ...                                                ...   \n",
       "1290      CHEMBL3649967  CCOC(c1nc2cc(-c3noc(=O)[nH]3)nc(-c3cncc(Cl)c3)...   \n",
       "1291      CHEMBL5092438  COCC(C)c1nc2cc(-c3noc(=O)[nH]3)nc(-c3cncc(Cl)c...   \n",
       "1292      CHEMBL5089893  CCO[C@@H](c1nc2cc(-c3noc(=O)[nH]3)nc(-c3cncc(C...   \n",
       "1293      CHEMBL5085142  Cc1cccc(-c2nc3nc(C(=O)O)nc(NCC4CC4)c3n2CC2CCCC...   \n",
       "1294      CHEMBL5084175  C[C@@H](Nc1nc(C(=O)O)nc2nc(-c3ccc4sccc4c3)n(Cc...   \n",
       "\n",
       "             class       MW     LogP  NumHDonors  NumHAcceptors     pIC50  \n",
       "0         inactive  572.822  7.17210         1.0            4.0  4.568636  \n",
       "1         inactive  426.560  5.48100         1.0            2.0  4.180456  \n",
       "2         inactive  445.515  4.26000         1.0            5.0  4.045757  \n",
       "3         inactive  449.594  5.02930         3.0            3.0  4.070581  \n",
       "4         inactive  461.605  7.05800         0.0            2.0  4.036212  \n",
       "...            ...      ...      ...         ...            ...       ...  \n",
       "1290        active  523.037  5.80390         1.0            8.0  8.920819  \n",
       "1291        active  511.026  5.62720         1.0            8.0  8.795880  \n",
       "1292        active  537.064  6.36490         1.0            8.0  9.455932  \n",
       "1293  intermediate  419.529  4.90212         2.0            6.0  5.075721  \n",
       "1294        active  504.015  6.31830         2.0            7.0  6.585027  \n",
       "\n",
       "[1295 rows x 8 columns]"
      ]
     },
     "execution_count": 28,
     "metadata": {},
     "output_type": "execute_result"
    }
   ],
   "source": [
    "df_final = pIC50(df_norm)\n",
    "df_final"
   ]
  },
  {
   "cell_type": "code",
   "execution_count": 29,
   "id": "168cd6d4",
   "metadata": {},
   "outputs": [
    {
     "data": {
      "text/plain": [
       "count    1295.000000\n",
       "mean        7.113841\n",
       "std         1.922808\n",
       "min         2.992252\n",
       "25%         5.681937\n",
       "50%         7.337242\n",
       "75%         8.774306\n",
       "max        10.214670\n",
       "Name: pIC50, dtype: float64"
      ]
     },
     "execution_count": 29,
     "metadata": {},
     "output_type": "execute_result"
    }
   ],
   "source": [
    "df_final.pIC50.describe()"
   ]
  },
  {
   "cell_type": "code",
   "execution_count": 30,
   "id": "4d6ae19a",
   "metadata": {},
   "outputs": [],
   "source": [
    "df_final.to_csv('P53_04_bioactivity_data_3class_pIC50.csv')"
   ]
  },
  {
   "cell_type": "markdown",
   "id": "674f5d2f",
   "metadata": {},
   "source": [
    "### Removing the 'intermediate' bioactivity class"
   ]
  },
  {
   "cell_type": "code",
   "execution_count": 31,
   "id": "7627671b",
   "metadata": {},
   "outputs": [
    {
     "data": {
      "text/html": [
       "<div>\n",
       "<style scoped>\n",
       "    .dataframe tbody tr th:only-of-type {\n",
       "        vertical-align: middle;\n",
       "    }\n",
       "\n",
       "    .dataframe tbody tr th {\n",
       "        vertical-align: top;\n",
       "    }\n",
       "\n",
       "    .dataframe thead th {\n",
       "        text-align: right;\n",
       "    }\n",
       "</style>\n",
       "<table border=\"1\" class=\"dataframe\">\n",
       "  <thead>\n",
       "    <tr style=\"text-align: right;\">\n",
       "      <th></th>\n",
       "      <th>molecule_chembl_id</th>\n",
       "      <th>canonical_smiles</th>\n",
       "      <th>class</th>\n",
       "      <th>MW</th>\n",
       "      <th>LogP</th>\n",
       "      <th>NumHDonors</th>\n",
       "      <th>NumHAcceptors</th>\n",
       "      <th>pIC50</th>\n",
       "    </tr>\n",
       "  </thead>\n",
       "  <tbody>\n",
       "    <tr>\n",
       "      <th>0</th>\n",
       "      <td>CHEMBL179549</td>\n",
       "      <td>CCCN1C(=O)c2ccccc2C1(NC(=O)c1ccc(C(C)(C)C)cc1)...</td>\n",
       "      <td>inactive</td>\n",
       "      <td>572.822</td>\n",
       "      <td>7.1721</td>\n",
       "      <td>1.0</td>\n",
       "      <td>4.0</td>\n",
       "      <td>4.568636</td>\n",
       "    </tr>\n",
       "    <tr>\n",
       "      <th>1</th>\n",
       "      <td>CHEMBL360920</td>\n",
       "      <td>CCCN1C(=O)c2ccccc2C1(NC(=O)c1ccccc1)c1ccc(C(C)...</td>\n",
       "      <td>inactive</td>\n",
       "      <td>426.560</td>\n",
       "      <td>5.4810</td>\n",
       "      <td>1.0</td>\n",
       "      <td>2.0</td>\n",
       "      <td>4.180456</td>\n",
       "    </tr>\n",
       "    <tr>\n",
       "      <th>2</th>\n",
       "      <td>CHEMBL182052</td>\n",
       "      <td>CCCOC1(c2ccccc2)c2ccccc2C(=O)N1C(Cc1ccc(O)cc1)...</td>\n",
       "      <td>inactive</td>\n",
       "      <td>445.515</td>\n",
       "      <td>4.2600</td>\n",
       "      <td>1.0</td>\n",
       "      <td>5.0</td>\n",
       "      <td>4.045757</td>\n",
       "    </tr>\n",
       "    <tr>\n",
       "      <th>3</th>\n",
       "      <td>CHEMBL179662</td>\n",
       "      <td>OCC(NC1(c2ccccc2)c2ccccc2CC1Cc1ccccc1)C(O)c1cc...</td>\n",
       "      <td>inactive</td>\n",
       "      <td>449.594</td>\n",
       "      <td>5.0293</td>\n",
       "      <td>3.0</td>\n",
       "      <td>3.0</td>\n",
       "      <td>4.070581</td>\n",
       "    </tr>\n",
       "    <tr>\n",
       "      <th>4</th>\n",
       "      <td>CHEMBL181688</td>\n",
       "      <td>CC(C)(C)c1ccc(COC2(c3ccccc3)c3ccccc3C(=O)N2Cc2...</td>\n",
       "      <td>inactive</td>\n",
       "      <td>461.605</td>\n",
       "      <td>7.0580</td>\n",
       "      <td>0.0</td>\n",
       "      <td>2.0</td>\n",
       "      <td>4.036212</td>\n",
       "    </tr>\n",
       "    <tr>\n",
       "      <th>...</th>\n",
       "      <td>...</td>\n",
       "      <td>...</td>\n",
       "      <td>...</td>\n",
       "      <td>...</td>\n",
       "      <td>...</td>\n",
       "      <td>...</td>\n",
       "      <td>...</td>\n",
       "      <td>...</td>\n",
       "    </tr>\n",
       "    <tr>\n",
       "      <th>1289</th>\n",
       "      <td>CHEMBL3649993</td>\n",
       "      <td>COCC(C)c1nc2cc(-c3noc(=O)[nH]3)nc(-c3cncc(Cl)c...</td>\n",
       "      <td>active</td>\n",
       "      <td>496.999</td>\n",
       "      <td>5.0662</td>\n",
       "      <td>1.0</td>\n",
       "      <td>8.0</td>\n",
       "      <td>8.045757</td>\n",
       "    </tr>\n",
       "    <tr>\n",
       "      <th>1290</th>\n",
       "      <td>CHEMBL3649967</td>\n",
       "      <td>CCOC(c1nc2cc(-c3noc(=O)[nH]3)nc(-c3cncc(Cl)c3)...</td>\n",
       "      <td>active</td>\n",
       "      <td>523.037</td>\n",
       "      <td>5.8039</td>\n",
       "      <td>1.0</td>\n",
       "      <td>8.0</td>\n",
       "      <td>8.920819</td>\n",
       "    </tr>\n",
       "    <tr>\n",
       "      <th>1291</th>\n",
       "      <td>CHEMBL5092438</td>\n",
       "      <td>COCC(C)c1nc2cc(-c3noc(=O)[nH]3)nc(-c3cncc(Cl)c...</td>\n",
       "      <td>active</td>\n",
       "      <td>511.026</td>\n",
       "      <td>5.6272</td>\n",
       "      <td>1.0</td>\n",
       "      <td>8.0</td>\n",
       "      <td>8.795880</td>\n",
       "    </tr>\n",
       "    <tr>\n",
       "      <th>1292</th>\n",
       "      <td>CHEMBL5089893</td>\n",
       "      <td>CCO[C@@H](c1nc2cc(-c3noc(=O)[nH]3)nc(-c3cncc(C...</td>\n",
       "      <td>active</td>\n",
       "      <td>537.064</td>\n",
       "      <td>6.3649</td>\n",
       "      <td>1.0</td>\n",
       "      <td>8.0</td>\n",
       "      <td>9.455932</td>\n",
       "    </tr>\n",
       "    <tr>\n",
       "      <th>1294</th>\n",
       "      <td>CHEMBL5084175</td>\n",
       "      <td>C[C@@H](Nc1nc(C(=O)O)nc2nc(-c3ccc4sccc4c3)n(Cc...</td>\n",
       "      <td>active</td>\n",
       "      <td>504.015</td>\n",
       "      <td>6.3183</td>\n",
       "      <td>2.0</td>\n",
       "      <td>7.0</td>\n",
       "      <td>6.585027</td>\n",
       "    </tr>\n",
       "  </tbody>\n",
       "</table>\n",
       "<p>1151 rows × 8 columns</p>\n",
       "</div>"
      ],
      "text/plain": [
       "     molecule_chembl_id                                   canonical_smiles  \\\n",
       "0          CHEMBL179549  CCCN1C(=O)c2ccccc2C1(NC(=O)c1ccc(C(C)(C)C)cc1)...   \n",
       "1          CHEMBL360920  CCCN1C(=O)c2ccccc2C1(NC(=O)c1ccccc1)c1ccc(C(C)...   \n",
       "2          CHEMBL182052  CCCOC1(c2ccccc2)c2ccccc2C(=O)N1C(Cc1ccc(O)cc1)...   \n",
       "3          CHEMBL179662  OCC(NC1(c2ccccc2)c2ccccc2CC1Cc1ccccc1)C(O)c1cc...   \n",
       "4          CHEMBL181688  CC(C)(C)c1ccc(COC2(c3ccccc3)c3ccccc3C(=O)N2Cc2...   \n",
       "...                 ...                                                ...   \n",
       "1289      CHEMBL3649993  COCC(C)c1nc2cc(-c3noc(=O)[nH]3)nc(-c3cncc(Cl)c...   \n",
       "1290      CHEMBL3649967  CCOC(c1nc2cc(-c3noc(=O)[nH]3)nc(-c3cncc(Cl)c3)...   \n",
       "1291      CHEMBL5092438  COCC(C)c1nc2cc(-c3noc(=O)[nH]3)nc(-c3cncc(Cl)c...   \n",
       "1292      CHEMBL5089893  CCO[C@@H](c1nc2cc(-c3noc(=O)[nH]3)nc(-c3cncc(C...   \n",
       "1294      CHEMBL5084175  C[C@@H](Nc1nc(C(=O)O)nc2nc(-c3ccc4sccc4c3)n(Cc...   \n",
       "\n",
       "         class       MW    LogP  NumHDonors  NumHAcceptors     pIC50  \n",
       "0     inactive  572.822  7.1721         1.0            4.0  4.568636  \n",
       "1     inactive  426.560  5.4810         1.0            2.0  4.180456  \n",
       "2     inactive  445.515  4.2600         1.0            5.0  4.045757  \n",
       "3     inactive  449.594  5.0293         3.0            3.0  4.070581  \n",
       "4     inactive  461.605  7.0580         0.0            2.0  4.036212  \n",
       "...        ...      ...     ...         ...            ...       ...  \n",
       "1289    active  496.999  5.0662         1.0            8.0  8.045757  \n",
       "1290    active  523.037  5.8039         1.0            8.0  8.920819  \n",
       "1291    active  511.026  5.6272         1.0            8.0  8.795880  \n",
       "1292    active  537.064  6.3649         1.0            8.0  9.455932  \n",
       "1294    active  504.015  6.3183         2.0            7.0  6.585027  \n",
       "\n",
       "[1151 rows x 8 columns]"
      ]
     },
     "execution_count": 31,
     "metadata": {},
     "output_type": "execute_result"
    }
   ],
   "source": [
    "df_2class = df_final[df_final['class'] != 'intermediate']\n",
    "df_2class"
   ]
  },
  {
   "cell_type": "code",
   "execution_count": 32,
   "id": "8358b11e",
   "metadata": {},
   "outputs": [],
   "source": [
    "df_2class.to_csv('P53_05_bioactivity_data_2class_pIC50.csv')"
   ]
  },
  {
   "cell_type": "markdown",
   "id": "5b826dbb",
   "metadata": {},
   "source": [
    "### PCA Visualization\n",
    "Compressing 5 dimensions to 2D"
   ]
  },
  {
   "cell_type": "code",
   "execution_count": 41,
   "id": "0404fb72",
   "metadata": {},
   "outputs": [
    {
     "data": {
      "text/html": [
       "<div>\n",
       "<style scoped>\n",
       "    .dataframe tbody tr th:only-of-type {\n",
       "        vertical-align: middle;\n",
       "    }\n",
       "\n",
       "    .dataframe tbody tr th {\n",
       "        vertical-align: top;\n",
       "    }\n",
       "\n",
       "    .dataframe thead th {\n",
       "        text-align: right;\n",
       "    }\n",
       "</style>\n",
       "<table border=\"1\" class=\"dataframe\">\n",
       "  <thead>\n",
       "    <tr style=\"text-align: right;\">\n",
       "      <th></th>\n",
       "      <th>MW</th>\n",
       "      <th>LogP</th>\n",
       "      <th>NumHDonors</th>\n",
       "      <th>NumHAcceptors</th>\n",
       "      <th>pIC50</th>\n",
       "    </tr>\n",
       "  </thead>\n",
       "  <tbody>\n",
       "    <tr>\n",
       "      <th>0</th>\n",
       "      <td>572.822</td>\n",
       "      <td>7.1721</td>\n",
       "      <td>1.0</td>\n",
       "      <td>4.0</td>\n",
       "      <td>4.568636</td>\n",
       "    </tr>\n",
       "    <tr>\n",
       "      <th>1</th>\n",
       "      <td>426.560</td>\n",
       "      <td>5.4810</td>\n",
       "      <td>1.0</td>\n",
       "      <td>2.0</td>\n",
       "      <td>4.180456</td>\n",
       "    </tr>\n",
       "    <tr>\n",
       "      <th>2</th>\n",
       "      <td>445.515</td>\n",
       "      <td>4.2600</td>\n",
       "      <td>1.0</td>\n",
       "      <td>5.0</td>\n",
       "      <td>4.045757</td>\n",
       "    </tr>\n",
       "    <tr>\n",
       "      <th>3</th>\n",
       "      <td>449.594</td>\n",
       "      <td>5.0293</td>\n",
       "      <td>3.0</td>\n",
       "      <td>3.0</td>\n",
       "      <td>4.070581</td>\n",
       "    </tr>\n",
       "    <tr>\n",
       "      <th>4</th>\n",
       "      <td>461.605</td>\n",
       "      <td>7.0580</td>\n",
       "      <td>0.0</td>\n",
       "      <td>2.0</td>\n",
       "      <td>4.036212</td>\n",
       "    </tr>\n",
       "    <tr>\n",
       "      <th>...</th>\n",
       "      <td>...</td>\n",
       "      <td>...</td>\n",
       "      <td>...</td>\n",
       "      <td>...</td>\n",
       "      <td>...</td>\n",
       "    </tr>\n",
       "    <tr>\n",
       "      <th>1289</th>\n",
       "      <td>496.999</td>\n",
       "      <td>5.0662</td>\n",
       "      <td>1.0</td>\n",
       "      <td>8.0</td>\n",
       "      <td>8.045757</td>\n",
       "    </tr>\n",
       "    <tr>\n",
       "      <th>1290</th>\n",
       "      <td>523.037</td>\n",
       "      <td>5.8039</td>\n",
       "      <td>1.0</td>\n",
       "      <td>8.0</td>\n",
       "      <td>8.920819</td>\n",
       "    </tr>\n",
       "    <tr>\n",
       "      <th>1291</th>\n",
       "      <td>511.026</td>\n",
       "      <td>5.6272</td>\n",
       "      <td>1.0</td>\n",
       "      <td>8.0</td>\n",
       "      <td>8.795880</td>\n",
       "    </tr>\n",
       "    <tr>\n",
       "      <th>1292</th>\n",
       "      <td>537.064</td>\n",
       "      <td>6.3649</td>\n",
       "      <td>1.0</td>\n",
       "      <td>8.0</td>\n",
       "      <td>9.455932</td>\n",
       "    </tr>\n",
       "    <tr>\n",
       "      <th>1294</th>\n",
       "      <td>504.015</td>\n",
       "      <td>6.3183</td>\n",
       "      <td>2.0</td>\n",
       "      <td>7.0</td>\n",
       "      <td>6.585027</td>\n",
       "    </tr>\n",
       "  </tbody>\n",
       "</table>\n",
       "<p>1151 rows × 5 columns</p>\n",
       "</div>"
      ],
      "text/plain": [
       "           MW    LogP  NumHDonors  NumHAcceptors     pIC50\n",
       "0     572.822  7.1721         1.0            4.0  4.568636\n",
       "1     426.560  5.4810         1.0            2.0  4.180456\n",
       "2     445.515  4.2600         1.0            5.0  4.045757\n",
       "3     449.594  5.0293         3.0            3.0  4.070581\n",
       "4     461.605  7.0580         0.0            2.0  4.036212\n",
       "...       ...     ...         ...            ...       ...\n",
       "1289  496.999  5.0662         1.0            8.0  8.045757\n",
       "1290  523.037  5.8039         1.0            8.0  8.920819\n",
       "1291  511.026  5.6272         1.0            8.0  8.795880\n",
       "1292  537.064  6.3649         1.0            8.0  9.455932\n",
       "1294  504.015  6.3183         2.0            7.0  6.585027\n",
       "\n",
       "[1151 rows x 5 columns]"
      ]
     },
     "execution_count": 41,
     "metadata": {},
     "output_type": "execute_result"
    }
   ],
   "source": [
    "pca_dataset = df_2class.drop(['molecule_chembl_id','canonical_smiles','class'],axis = 1)\n",
    "pca_dataset"
   ]
  },
  {
   "cell_type": "code",
   "execution_count": 39,
   "id": "7fe13a96",
   "metadata": {},
   "outputs": [],
   "source": [
    "from sklearn.preprocessing import StandardScaler"
   ]
  },
  {
   "cell_type": "code",
   "execution_count": 42,
   "id": "91cf13de",
   "metadata": {},
   "outputs": [
    {
     "data": {
      "text/plain": [
       "StandardScaler()"
      ]
     },
     "execution_count": 42,
     "metadata": {},
     "output_type": "execute_result"
    }
   ],
   "source": [
    "scaler = StandardScaler()\n",
    "scaler.fit(pca_dataset)"
   ]
  },
  {
   "cell_type": "code",
   "execution_count": 43,
   "id": "bcb7842b",
   "metadata": {},
   "outputs": [],
   "source": [
    "scaled_data = scaler.transform(pca_dataset)"
   ]
  },
  {
   "cell_type": "code",
   "execution_count": 44,
   "id": "b3e80544",
   "metadata": {},
   "outputs": [],
   "source": [
    "from sklearn.decomposition import PCA"
   ]
  },
  {
   "cell_type": "code",
   "execution_count": 45,
   "id": "f97afa3b",
   "metadata": {},
   "outputs": [],
   "source": [
    "pca = PCA(n_components=2)"
   ]
  },
  {
   "cell_type": "code",
   "execution_count": 46,
   "id": "207a08d2",
   "metadata": {},
   "outputs": [
    {
     "data": {
      "text/plain": [
       "PCA(n_components=2)"
      ]
     },
     "execution_count": 46,
     "metadata": {},
     "output_type": "execute_result"
    }
   ],
   "source": [
    "pca.fit(scaled_data)"
   ]
  },
  {
   "cell_type": "code",
   "execution_count": 47,
   "id": "298dad9a",
   "metadata": {},
   "outputs": [],
   "source": [
    "x_pca = pca.transform(scaled_data)"
   ]
  },
  {
   "cell_type": "code",
   "execution_count": 48,
   "id": "596817d9",
   "metadata": {},
   "outputs": [
    {
     "data": {
      "text/plain": [
       "(1151, 5)"
      ]
     },
     "execution_count": 48,
     "metadata": {},
     "output_type": "execute_result"
    }
   ],
   "source": [
    "scaled_data.shape"
   ]
  },
  {
   "cell_type": "code",
   "execution_count": 49,
   "id": "a5dad34e",
   "metadata": {},
   "outputs": [
    {
     "data": {
      "text/plain": [
       "(1151, 2)"
      ]
     },
     "execution_count": 49,
     "metadata": {},
     "output_type": "execute_result"
    }
   ],
   "source": [
    "x_pca.shape"
   ]
  },
  {
   "cell_type": "raw",
   "id": "4ed1c795",
   "metadata": {},
   "source": [
    "We've reduced 5 dimensions to just 2. Now Let's plot these two dimensions out!"
   ]
  },
  {
   "cell_type": "code",
   "execution_count": 57,
   "id": "8ac60b87",
   "metadata": {},
   "outputs": [
    {
     "data": {
      "text/plain": [
       "Text(0, 0.5, 'Second Principal Component')"
      ]
     },
     "execution_count": 57,
     "metadata": {},
     "output_type": "execute_result"
    },
    {
     "data": {
      "image/png": "[encoded data removed]",
      "text/plain": [
       "<Figure size 500x500 with 1 Axes>"
      ]
     },
     "metadata": {},
     "output_type": "display_data"
    }
   ],
   "source": [
    "plt.figure(figsize=(5,5))\n",
    "plt.scatter(x_pca[:,0],x_pca[:,1],c=pca_dataset['LogP'],cmap='plasma')\n",
    "plt.xlabel('First principal component')\n",
    "plt.ylabel('Second Principal Component')"
   ]
  },
  {
   "cell_type": "code",
   "execution_count": 56,
   "id": "3eb3c04c",
   "metadata": {},
   "outputs": [
    {
     "data": {
      "text/plain": [
       "Text(0, 0.5, 'Second Principal Component')"
      ]
     },
     "execution_count": 56,
     "metadata": {},
     "output_type": "execute_result"
    },
    {
     "data": {
      "image/png": "[encoded data removed]",
      "text/plain": [
       "<Figure size 500x500 with 1 Axes>"
      ]
     },
     "metadata": {},
     "output_type": "display_data"
    }
   ],
   "source": [
    "plt.figure(figsize=(5,5))\n",
    "plt.scatter(x_pca[:,0],x_pca[:,1],c=pca_dataset['pIC50'],cmap='plasma')\n",
    "plt.xlabel('First principal component')\n",
    "plt.ylabel('Second Principal Component')"
   ]
  },
  {
   "cell_type": "markdown",
   "id": "ec778e8f",
   "metadata": {},
   "source": [
    "#### Interpreting the components"
   ]
  },
  {
   "cell_type": "code",
   "execution_count": 62,
   "id": "99308d6a",
   "metadata": {},
   "outputs": [
    {
     "data": {
      "text/plain": [
       "array([[ 0.533714  , -0.38618424,  0.53056655,  0.52489302,  0.09485544],\n",
       "       [-0.27324255, -0.53161246,  0.1484625 , -0.12272589, -0.77821844]])"
      ]
     },
     "execution_count": 62,
     "metadata": {},
     "output_type": "execute_result"
    }
   ],
   "source": [
    "pca.components_"
   ]
  },
  {
   "cell_type": "markdown",
   "id": "08bf2cd6",
   "metadata": {},
   "source": [
    "### Exploratory Data Analysis (Chemical Space Analysis) via Lipinski descriptors"
   ]
  },
  {
   "cell_type": "markdown",
   "id": "23d2e039",
   "metadata": {},
   "source": [
    "#### Import library"
   ]
  },
  {
   "cell_type": "code",
   "execution_count": 51,
   "id": "d71b80f8",
   "metadata": {},
   "outputs": [],
   "source": [
    "import seaborn as sns\n",
    "sns.set(style='ticks')\n",
    "import matplotlib.pyplot as plt"
   ]
  },
  {
   "cell_type": "markdown",
   "id": "363a04e0",
   "metadata": {},
   "source": [
    "### Frequency plot of the 2 bioactivity classes"
   ]
  },
  {
   "cell_type": "code",
   "execution_count": 59,
   "id": "151da3a8",
   "metadata": {},
   "outputs": [
    {
     "data": {
      "image/png": "[encoded data removed]",
      "text/plain": [
       "<Figure size 500x500 with 1 Axes>"
      ]
     },
     "metadata": {},
     "output_type": "display_data"
    }
   ],
   "source": [
    "plt.figure(figsize=(5.0, 5.0))\n",
    "\n",
    "sns.countplot(x='class', data=df_2class, edgecolor='black')\n",
    "\n",
    "plt.xlabel('Bioactivity class', fontsize=14, fontweight='bold')\n",
    "plt.ylabel('Frequency', fontsize=14, fontweight='bold')\n",
    "\n",
    "plt.savefig('plot_bioactivity_class.pdf')"
   ]
  },
  {
   "cell_type": "markdown",
   "id": "26f49aac",
   "metadata": {},
   "source": [
    "### Scatter plot of MW versus LogP"
   ]
  },
  {
   "cell_type": "code",
   "execution_count": 32,
   "id": "88ffc1e9",
   "metadata": {},
   "outputs": [
    {
     "data": {
      "image/png": "[encoded data removed]",
      "text/plain": [
       "<Figure size 550x550 with 1 Axes>"
      ]
     },
     "metadata": {},
     "output_type": "display_data"
    }
   ],
   "source": [
    "plt.figure(figsize=(5.5, 5.5))\n",
    "\n",
    "sns.scatterplot(x='MW', y='LogP', data=df_2class, hue='class', size='pIC50', edgecolor='black', alpha=0.7)\n",
    "\n",
    "plt.xlabel('MW', fontsize=14, fontweight='bold')\n",
    "plt.ylabel('LogP', fontsize=14, fontweight='bold')\n",
    "plt.legend(bbox_to_anchor=(1.05, 1), loc=2, borderaxespad=0)\n",
    "plt.savefig('plot_MW_vs_LogP.pdf')"
   ]
  },
  {
   "cell_type": "raw",
   "id": "17560449",
   "metadata": {},
   "source": [
    "It can be seen that the 2 bioactivity classes are spanning similar chemical spaces as evident by the scatter plot of MW vs LogP."
   ]
  },
  {
   "cell_type": "markdown",
   "id": "6205ab49",
   "metadata": {},
   "source": [
    "### Box plots"
   ]
  },
  {
   "cell_type": "markdown",
   "id": "c80de4d3",
   "metadata": {},
   "source": [
    "#### pIC50 value"
   ]
  },
  {
   "cell_type": "code",
   "execution_count": 33,
   "id": "56022e95",
   "metadata": {},
   "outputs": [
    {
     "data": {
      "image/png": "[encoded data removed]",
      "text/plain": [
       "<Figure size 550x550 with 1 Axes>"
      ]
     },
     "metadata": {},
     "output_type": "display_data"
    }
   ],
   "source": [
    "plt.figure(figsize=(5.5, 5.5))\n",
    "\n",
    "sns.boxplot(x = 'class', y = 'pIC50', data = df_2class)\n",
    "\n",
    "plt.xlabel('Bioactivity class', fontsize=14, fontweight='bold')\n",
    "plt.ylabel('pIC50 value', fontsize=14, fontweight='bold')\n",
    "\n",
    "plt.savefig('plot_ic50.pdf')"
   ]
  },
  {
   "cell_type": "markdown",
   "id": "660049cf",
   "metadata": {},
   "source": [
    "### MW"
   ]
  },
  {
   "cell_type": "code",
   "execution_count": 34,
   "id": "bdb41040",
   "metadata": {},
   "outputs": [
    {
     "data": {
      "image/png": "[encoded data removed]",
      "text/plain": [
       "<Figure size 550x550 with 1 Axes>"
      ]
     },
     "metadata": {},
     "output_type": "display_data"
    }
   ],
   "source": [
    "plt.figure(figsize=(5.5, 5.5))\n",
    "\n",
    "sns.boxplot(x = 'class', y = 'MW', data = df_2class)\n",
    "\n",
    "plt.xlabel('Bioactivity class', fontsize=14, fontweight='bold')\n",
    "plt.ylabel('MW', fontsize=14, fontweight='bold')\n",
    "\n",
    "plt.savefig('plot_MW.pdf')"
   ]
  },
  {
   "cell_type": "markdown",
   "id": "1b819e2c",
   "metadata": {},
   "source": [
    "### LogP"
   ]
  },
  {
   "cell_type": "code",
   "execution_count": 35,
   "id": "95c392d2",
   "metadata": {},
   "outputs": [
    {
     "data": {
      "image/png": "[encoded data removed]",
      "text/plain": [
       "<Figure size 550x550 with 1 Axes>"
      ]
     },
     "metadata": {},
     "output_type": "display_data"
    }
   ],
   "source": [
    "plt.figure(figsize=(5.5, 5.5))\n",
    "\n",
    "sns.boxplot(x = 'class', y = 'LogP', data = df_2class)\n",
    "\n",
    "plt.xlabel('Bioactivity class', fontsize=14, fontweight='bold')\n",
    "plt.ylabel('LogP', fontsize=14, fontweight='bold')\n",
    "\n",
    "plt.savefig('plot_LogP.pdf')"
   ]
  },
  {
   "cell_type": "markdown",
   "id": "cb475195",
   "metadata": {},
   "source": [
    "### NumHDonors"
   ]
  },
  {
   "cell_type": "code",
   "execution_count": 36,
   "id": "527c60c6",
   "metadata": {},
   "outputs": [
    {
     "data": {
      "image/png": "[encoded data removed]",
      "text/plain": [
       "<Figure size 550x550 with 1 Axes>"
      ]
     },
     "metadata": {},
     "output_type": "display_data"
    }
   ],
   "source": [
    "plt.figure(figsize=(5.5, 5.5))\n",
    "\n",
    "sns.boxplot(x = 'class', y = 'NumHDonors', data = df_2class)\n",
    "\n",
    "plt.xlabel('Bioactivity class', fontsize=14, fontweight='bold')\n",
    "plt.ylabel('NumHDonors', fontsize=14, fontweight='bold')\n",
    "\n",
    "plt.savefig('plot_NumHDonors.pdf')\n",
    "     "
   ]
  },
  {
   "cell_type": "markdown",
   "id": "7d9479e1",
   "metadata": {},
   "source": [
    "### NumHAcceptors"
   ]
  },
  {
   "cell_type": "code",
   "execution_count": 37,
   "id": "2ffc3920",
   "metadata": {},
   "outputs": [
    {
     "data": {
      "image/png": "[encoded data removed]",
      "text/plain": [
       "<Figure size 550x550 with 1 Axes>"
      ]
     },
     "metadata": {},
     "output_type": "display_data"
    }
   ],
   "source": [
    "plt.figure(figsize=(5.5, 5.5))\n",
    "\n",
    "sns.boxplot(x = 'class', y = 'NumHAcceptors', data = df_2class)\n",
    "\n",
    "plt.xlabel('Bioactivity class', fontsize=14, fontweight='bold')\n",
    "plt.ylabel('NumHAcceptors', fontsize=14, fontweight='bold')\n",
    "\n",
    "plt.savefig('plot_NumHAcceptors.pdf')"
   ]
  },
  {
   "cell_type": "code",
   "execution_count": 62,
   "id": "d86f8a0b",
   "metadata": {},
   "outputs": [],
   "source": [
    "import subprocess\n",
    "import zipfile"
   ]
  },
  {
   "cell_type": "code",
   "execution_count": 63,
   "id": "4b9334da",
   "metadata": {},
   "outputs": [
    {
     "name": "stderr",
     "output_type": "stream",
     "text": [
      "'zip' is not recognized as an internal or external command,\n",
      "operable program or batch file.\n"
     ]
    }
   ],
   "source": [
    "! zip -r results.zip . -i *.csv *.pdf"
   ]
  },
  {
   "cell_type": "code",
   "execution_count": null,
   "id": "3b664aa8",
   "metadata": {},
   "outputs": [],
   "source": []
  }
 ],
 "metadata": {
  "kernelspec": {
   "display_name": "Python 3 (ipykernel)",
   "language": "python",
   "name": "python3"
  },
  "language_info": {
   "codemirror_mode": {
    "name": "ipython",
    "version": 3
   },
   "file_extension": ".py",
   "mimetype": "text/x-python",
   "name": "python",
   "nbconvert_exporter": "python",
   "pygments_lexer": "ipython3",
   "version": "3.9.13"
  }
 },
 "nbformat": 4,
 "nbformat_minor": 5
}
