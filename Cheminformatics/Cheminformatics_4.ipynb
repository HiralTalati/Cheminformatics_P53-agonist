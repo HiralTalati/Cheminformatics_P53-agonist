{
 "cells": [
  {
   "cell_type": "markdown",
   "id": "e8afcc89",
   "metadata": {},
   "source": [
    "## Regression Models with Random Forest"
   ]
  },
  {
   "cell_type": "code",
   "execution_count": 1,
   "id": "8ad139fc",
   "metadata": {},
   "outputs": [],
   "source": [
    "import pandas as pd\n",
    "import seaborn as sns\n",
    "from sklearn.model_selection import train_test_split\n",
    "from sklearn.ensemble import RandomForestRegressor"
   ]
  },
  {
   "cell_type": "markdown",
   "id": "3787efaa",
   "metadata": {},
   "source": [
    "### Load the data set"
   ]
  },
  {
   "cell_type": "code",
   "execution_count": 2,
   "id": "5797e547",
   "metadata": {},
   "outputs": [],
   "source": [
    "df = pd.read_csv('P53_06_bioactivity_data_3class_pIC50_pubchem_fp.csv')"
   ]
  },
  {
   "cell_type": "markdown",
   "id": "76f56693",
   "metadata": {},
   "source": [
    "### Input features"
   ]
  },
  {
   "cell_type": "code",
   "execution_count": 3,
   "id": "c04f5b56",
   "metadata": {},
   "outputs": [
    {
     "data": {
      "text/html": [
       "<div>\n",
       "<style scoped>\n",
       "    .dataframe tbody tr th:only-of-type {\n",
       "        vertical-align: middle;\n",
       "    }\n",
       "\n",
       "    .dataframe tbody tr th {\n",
       "        vertical-align: top;\n",
       "    }\n",
       "\n",
       "    .dataframe thead th {\n",
       "        text-align: right;\n",
       "    }\n",
       "</style>\n",
       "<table border=\"1\" class=\"dataframe\">\n",
       "  <thead>\n",
       "    <tr style=\"text-align: right;\">\n",
       "      <th></th>\n",
       "      <th>PubchemFP0</th>\n",
       "      <th>PubchemFP1</th>\n",
       "      <th>PubchemFP2</th>\n",
       "      <th>PubchemFP3</th>\n",
       "      <th>PubchemFP4</th>\n",
       "      <th>PubchemFP5</th>\n",
       "      <th>PubchemFP6</th>\n",
       "      <th>PubchemFP7</th>\n",
       "      <th>PubchemFP8</th>\n",
       "      <th>PubchemFP9</th>\n",
       "      <th>...</th>\n",
       "      <th>PubchemFP871</th>\n",
       "      <th>PubchemFP872</th>\n",
       "      <th>PubchemFP873</th>\n",
       "      <th>PubchemFP874</th>\n",
       "      <th>PubchemFP875</th>\n",
       "      <th>PubchemFP876</th>\n",
       "      <th>PubchemFP877</th>\n",
       "      <th>PubchemFP878</th>\n",
       "      <th>PubchemFP879</th>\n",
       "      <th>PubchemFP880</th>\n",
       "    </tr>\n",
       "  </thead>\n",
       "  <tbody>\n",
       "    <tr>\n",
       "      <th>0</th>\n",
       "      <td>1</td>\n",
       "      <td>1</td>\n",
       "      <td>1</td>\n",
       "      <td>0</td>\n",
       "      <td>0</td>\n",
       "      <td>0</td>\n",
       "      <td>0</td>\n",
       "      <td>0</td>\n",
       "      <td>0</td>\n",
       "      <td>1</td>\n",
       "      <td>...</td>\n",
       "      <td>0</td>\n",
       "      <td>0</td>\n",
       "      <td>0</td>\n",
       "      <td>0</td>\n",
       "      <td>0</td>\n",
       "      <td>0</td>\n",
       "      <td>0</td>\n",
       "      <td>0</td>\n",
       "      <td>0</td>\n",
       "      <td>0</td>\n",
       "    </tr>\n",
       "    <tr>\n",
       "      <th>1</th>\n",
       "      <td>1</td>\n",
       "      <td>1</td>\n",
       "      <td>1</td>\n",
       "      <td>0</td>\n",
       "      <td>0</td>\n",
       "      <td>0</td>\n",
       "      <td>0</td>\n",
       "      <td>0</td>\n",
       "      <td>0</td>\n",
       "      <td>1</td>\n",
       "      <td>...</td>\n",
       "      <td>0</td>\n",
       "      <td>0</td>\n",
       "      <td>0</td>\n",
       "      <td>0</td>\n",
       "      <td>0</td>\n",
       "      <td>0</td>\n",
       "      <td>0</td>\n",
       "      <td>0</td>\n",
       "      <td>0</td>\n",
       "      <td>0</td>\n",
       "    </tr>\n",
       "    <tr>\n",
       "      <th>2</th>\n",
       "      <td>1</td>\n",
       "      <td>1</td>\n",
       "      <td>1</td>\n",
       "      <td>1</td>\n",
       "      <td>0</td>\n",
       "      <td>0</td>\n",
       "      <td>0</td>\n",
       "      <td>0</td>\n",
       "      <td>0</td>\n",
       "      <td>1</td>\n",
       "      <td>...</td>\n",
       "      <td>0</td>\n",
       "      <td>0</td>\n",
       "      <td>0</td>\n",
       "      <td>0</td>\n",
       "      <td>0</td>\n",
       "      <td>0</td>\n",
       "      <td>0</td>\n",
       "      <td>0</td>\n",
       "      <td>0</td>\n",
       "      <td>0</td>\n",
       "    </tr>\n",
       "    <tr>\n",
       "      <th>3</th>\n",
       "      <td>1</td>\n",
       "      <td>1</td>\n",
       "      <td>1</td>\n",
       "      <td>0</td>\n",
       "      <td>0</td>\n",
       "      <td>0</td>\n",
       "      <td>0</td>\n",
       "      <td>0</td>\n",
       "      <td>0</td>\n",
       "      <td>1</td>\n",
       "      <td>...</td>\n",
       "      <td>0</td>\n",
       "      <td>0</td>\n",
       "      <td>0</td>\n",
       "      <td>0</td>\n",
       "      <td>0</td>\n",
       "      <td>0</td>\n",
       "      <td>0</td>\n",
       "      <td>0</td>\n",
       "      <td>0</td>\n",
       "      <td>0</td>\n",
       "    </tr>\n",
       "    <tr>\n",
       "      <th>4</th>\n",
       "      <td>1</td>\n",
       "      <td>1</td>\n",
       "      <td>1</td>\n",
       "      <td>0</td>\n",
       "      <td>0</td>\n",
       "      <td>0</td>\n",
       "      <td>0</td>\n",
       "      <td>0</td>\n",
       "      <td>0</td>\n",
       "      <td>1</td>\n",
       "      <td>...</td>\n",
       "      <td>0</td>\n",
       "      <td>0</td>\n",
       "      <td>0</td>\n",
       "      <td>0</td>\n",
       "      <td>0</td>\n",
       "      <td>0</td>\n",
       "      <td>0</td>\n",
       "      <td>0</td>\n",
       "      <td>0</td>\n",
       "      <td>0</td>\n",
       "    </tr>\n",
       "    <tr>\n",
       "      <th>...</th>\n",
       "      <td>...</td>\n",
       "      <td>...</td>\n",
       "      <td>...</td>\n",
       "      <td>...</td>\n",
       "      <td>...</td>\n",
       "      <td>...</td>\n",
       "      <td>...</td>\n",
       "      <td>...</td>\n",
       "      <td>...</td>\n",
       "      <td>...</td>\n",
       "      <td>...</td>\n",
       "      <td>...</td>\n",
       "      <td>...</td>\n",
       "      <td>...</td>\n",
       "      <td>...</td>\n",
       "      <td>...</td>\n",
       "      <td>...</td>\n",
       "      <td>...</td>\n",
       "      <td>...</td>\n",
       "      <td>...</td>\n",
       "      <td>...</td>\n",
       "    </tr>\n",
       "    <tr>\n",
       "      <th>1146</th>\n",
       "      <td>1</td>\n",
       "      <td>1</td>\n",
       "      <td>1</td>\n",
       "      <td>0</td>\n",
       "      <td>0</td>\n",
       "      <td>0</td>\n",
       "      <td>0</td>\n",
       "      <td>0</td>\n",
       "      <td>0</td>\n",
       "      <td>1</td>\n",
       "      <td>...</td>\n",
       "      <td>0</td>\n",
       "      <td>0</td>\n",
       "      <td>0</td>\n",
       "      <td>0</td>\n",
       "      <td>0</td>\n",
       "      <td>0</td>\n",
       "      <td>0</td>\n",
       "      <td>0</td>\n",
       "      <td>0</td>\n",
       "      <td>0</td>\n",
       "    </tr>\n",
       "    <tr>\n",
       "      <th>1147</th>\n",
       "      <td>1</td>\n",
       "      <td>1</td>\n",
       "      <td>1</td>\n",
       "      <td>0</td>\n",
       "      <td>0</td>\n",
       "      <td>0</td>\n",
       "      <td>0</td>\n",
       "      <td>0</td>\n",
       "      <td>0</td>\n",
       "      <td>1</td>\n",
       "      <td>...</td>\n",
       "      <td>0</td>\n",
       "      <td>0</td>\n",
       "      <td>0</td>\n",
       "      <td>0</td>\n",
       "      <td>0</td>\n",
       "      <td>0</td>\n",
       "      <td>0</td>\n",
       "      <td>0</td>\n",
       "      <td>0</td>\n",
       "      <td>0</td>\n",
       "    </tr>\n",
       "    <tr>\n",
       "      <th>1148</th>\n",
       "      <td>1</td>\n",
       "      <td>1</td>\n",
       "      <td>1</td>\n",
       "      <td>0</td>\n",
       "      <td>0</td>\n",
       "      <td>0</td>\n",
       "      <td>0</td>\n",
       "      <td>0</td>\n",
       "      <td>0</td>\n",
       "      <td>1</td>\n",
       "      <td>...</td>\n",
       "      <td>0</td>\n",
       "      <td>0</td>\n",
       "      <td>0</td>\n",
       "      <td>0</td>\n",
       "      <td>0</td>\n",
       "      <td>0</td>\n",
       "      <td>0</td>\n",
       "      <td>0</td>\n",
       "      <td>0</td>\n",
       "      <td>0</td>\n",
       "    </tr>\n",
       "    <tr>\n",
       "      <th>1149</th>\n",
       "      <td>1</td>\n",
       "      <td>1</td>\n",
       "      <td>1</td>\n",
       "      <td>1</td>\n",
       "      <td>0</td>\n",
       "      <td>0</td>\n",
       "      <td>0</td>\n",
       "      <td>0</td>\n",
       "      <td>0</td>\n",
       "      <td>1</td>\n",
       "      <td>...</td>\n",
       "      <td>0</td>\n",
       "      <td>0</td>\n",
       "      <td>0</td>\n",
       "      <td>0</td>\n",
       "      <td>0</td>\n",
       "      <td>0</td>\n",
       "      <td>0</td>\n",
       "      <td>0</td>\n",
       "      <td>0</td>\n",
       "      <td>0</td>\n",
       "    </tr>\n",
       "    <tr>\n",
       "      <th>1150</th>\n",
       "      <td>1</td>\n",
       "      <td>1</td>\n",
       "      <td>1</td>\n",
       "      <td>0</td>\n",
       "      <td>0</td>\n",
       "      <td>0</td>\n",
       "      <td>0</td>\n",
       "      <td>0</td>\n",
       "      <td>0</td>\n",
       "      <td>1</td>\n",
       "      <td>...</td>\n",
       "      <td>0</td>\n",
       "      <td>0</td>\n",
       "      <td>0</td>\n",
       "      <td>0</td>\n",
       "      <td>0</td>\n",
       "      <td>0</td>\n",
       "      <td>0</td>\n",
       "      <td>0</td>\n",
       "      <td>0</td>\n",
       "      <td>0</td>\n",
       "    </tr>\n",
       "  </tbody>\n",
       "</table>\n",
       "<p>1151 rows × 881 columns</p>\n",
       "</div>"
      ],
      "text/plain": [
       "      PubchemFP0  PubchemFP1  PubchemFP2  PubchemFP3  PubchemFP4  PubchemFP5  \\\n",
       "0              1           1           1           0           0           0   \n",
       "1              1           1           1           0           0           0   \n",
       "2              1           1           1           1           0           0   \n",
       "3              1           1           1           0           0           0   \n",
       "4              1           1           1           0           0           0   \n",
       "...          ...         ...         ...         ...         ...         ...   \n",
       "1146           1           1           1           0           0           0   \n",
       "1147           1           1           1           0           0           0   \n",
       "1148           1           1           1           0           0           0   \n",
       "1149           1           1           1           1           0           0   \n",
       "1150           1           1           1           0           0           0   \n",
       "\n",
       "      PubchemFP6  PubchemFP7  PubchemFP8  PubchemFP9  ...  PubchemFP871  \\\n",
       "0              0           0           0           1  ...             0   \n",
       "1              0           0           0           1  ...             0   \n",
       "2              0           0           0           1  ...             0   \n",
       "3              0           0           0           1  ...             0   \n",
       "4              0           0           0           1  ...             0   \n",
       "...          ...         ...         ...         ...  ...           ...   \n",
       "1146           0           0           0           1  ...             0   \n",
       "1147           0           0           0           1  ...             0   \n",
       "1148           0           0           0           1  ...             0   \n",
       "1149           0           0           0           1  ...             0   \n",
       "1150           0           0           0           1  ...             0   \n",
       "\n",
       "      PubchemFP872  PubchemFP873  PubchemFP874  PubchemFP875  PubchemFP876  \\\n",
       "0                0             0             0             0             0   \n",
       "1                0             0             0             0             0   \n",
       "2                0             0             0             0             0   \n",
       "3                0             0             0             0             0   \n",
       "4                0             0             0             0             0   \n",
       "...            ...           ...           ...           ...           ...   \n",
       "1146             0             0             0             0             0   \n",
       "1147             0             0             0             0             0   \n",
       "1148             0             0             0             0             0   \n",
       "1149             0             0             0             0             0   \n",
       "1150             0             0             0             0             0   \n",
       "\n",
       "      PubchemFP877  PubchemFP878  PubchemFP879  PubchemFP880  \n",
       "0                0             0             0             0  \n",
       "1                0             0             0             0  \n",
       "2                0             0             0             0  \n",
       "3                0             0             0             0  \n",
       "4                0             0             0             0  \n",
       "...            ...           ...           ...           ...  \n",
       "1146             0             0             0             0  \n",
       "1147             0             0             0             0  \n",
       "1148             0             0             0             0  \n",
       "1149             0             0             0             0  \n",
       "1150             0             0             0             0  \n",
       "\n",
       "[1151 rows x 881 columns]"
      ]
     },
     "execution_count": 3,
     "metadata": {},
     "output_type": "execute_result"
    }
   ],
   "source": [
    "x = df.drop('pIC50', axis=1)\n",
    "x"
   ]
  },
  {
   "cell_type": "code",
   "execution_count": 4,
   "id": "d34bc5be",
   "metadata": {},
   "outputs": [
    {
     "data": {
      "text/plain": [
       "0       4.568636\n",
       "1       4.180456\n",
       "2       4.045757\n",
       "3       4.070581\n",
       "4       4.036212\n",
       "          ...   \n",
       "1146    8.045757\n",
       "1147    8.920819\n",
       "1148    8.795880\n",
       "1149    9.455932\n",
       "1150    6.585027\n",
       "Name: pIC50, Length: 1151, dtype: float64"
      ]
     },
     "execution_count": 4,
     "metadata": {},
     "output_type": "execute_result"
    }
   ],
   "source": [
    "Y = df.pIC50\n",
    "Y"
   ]
  },
  {
   "cell_type": "markdown",
   "id": "a7ff477a",
   "metadata": {},
   "source": [
    "### Let's examine the data dimension"
   ]
  },
  {
   "cell_type": "code",
   "execution_count": 5,
   "id": "a3c909ba",
   "metadata": {},
   "outputs": [
    {
     "data": {
      "text/plain": [
       "(1151, 881)"
      ]
     },
     "execution_count": 5,
     "metadata": {},
     "output_type": "execute_result"
    }
   ],
   "source": [
    "x.shape"
   ]
  },
  {
   "cell_type": "code",
   "execution_count": 6,
   "id": "fbb5cb91",
   "metadata": {},
   "outputs": [
    {
     "data": {
      "text/plain": [
       "(1151,)"
      ]
     },
     "execution_count": 6,
     "metadata": {},
     "output_type": "execute_result"
    }
   ],
   "source": [
    "Y.shape"
   ]
  },
  {
   "cell_type": "markdown",
   "id": "d7187534",
   "metadata": {},
   "source": [
    "### Remove low variance features"
   ]
  },
  {
   "cell_type": "code",
   "execution_count": 7,
   "id": "0f760857",
   "metadata": {},
   "outputs": [],
   "source": [
    "from sklearn.feature_selection import VarianceThreshold\n",
    "selection = VarianceThreshold(threshold=(.8 * (1 - .8)))    \n",
    "X = selection.fit_transform(x)"
   ]
  },
  {
   "cell_type": "code",
   "execution_count": 9,
   "id": "9a857bfd",
   "metadata": {},
   "outputs": [
    {
     "data": {
      "text/plain": [
       "(1151, 162)"
      ]
     },
     "execution_count": 9,
     "metadata": {},
     "output_type": "execute_result"
    }
   ],
   "source": [
    "X.shape"
   ]
  },
  {
   "cell_type": "markdown",
   "id": "af39e2aa",
   "metadata": {},
   "source": [
    "### Data split (80/20 ratio)"
   ]
  },
  {
   "cell_type": "code",
   "execution_count": 10,
   "id": "3dcddf19",
   "metadata": {},
   "outputs": [],
   "source": [
    "X_train, X_test, Y_train, Y_test = train_test_split(X, Y, test_size=0.2)"
   ]
  },
  {
   "cell_type": "code",
   "execution_count": 11,
   "id": "e84baa05",
   "metadata": {},
   "outputs": [
    {
     "data": {
      "text/plain": [
       "((920, 162), (920,))"
      ]
     },
     "execution_count": 11,
     "metadata": {},
     "output_type": "execute_result"
    }
   ],
   "source": [
    "X_train.shape, Y_train.shape"
   ]
  },
  {
   "cell_type": "code",
   "execution_count": 12,
   "id": "13b376ac",
   "metadata": {},
   "outputs": [
    {
     "data": {
      "text/plain": [
       "((231, 162), (231,))"
      ]
     },
     "execution_count": 12,
     "metadata": {},
     "output_type": "execute_result"
    }
   ],
   "source": [
    "X_test.shape, Y_test.shape"
   ]
  },
  {
   "cell_type": "markdown",
   "id": "103ce293",
   "metadata": {},
   "source": [
    "### Building a Regression Model using Random Forest"
   ]
  },
  {
   "cell_type": "code",
   "execution_count": 13,
   "id": "64f1deb8",
   "metadata": {},
   "outputs": [
    {
     "data": {
      "text/plain": [
       "0.8695006187598074"
      ]
     },
     "execution_count": 13,
     "metadata": {},
     "output_type": "execute_result"
    }
   ],
   "source": [
    "model = RandomForestRegressor(n_estimators=100)\n",
    "model.fit(X_train, Y_train)\n",
    "r2 = model.score(X_test, Y_test)\n",
    "r2"
   ]
  },
  {
   "cell_type": "code",
   "execution_count": 14,
   "id": "a163426c",
   "metadata": {},
   "outputs": [],
   "source": [
    "Y_pred = model.predict(X_test)"
   ]
  },
  {
   "cell_type": "markdown",
   "id": "34d89f67",
   "metadata": {},
   "source": [
    "### Scatter Plot of Experimental vs Predicted pIC50 Values"
   ]
  },
  {
   "cell_type": "code",
   "execution_count": 15,
   "id": "27053e2a",
   "metadata": {},
   "outputs": [
    {
     "name": "stderr",
     "output_type": "stream",
     "text": [
      "/Applications/anaconda3/lib/python3.9/site-packages/seaborn/_decorators.py:36: FutureWarning: Pass the following variables as keyword args: x, y. From version 0.12, the only valid positional argument will be `data`, and passing other arguments without an explicit keyword will result in an error or misinterpretation.\n",
      "  warnings.warn(\n"
     ]
    },
    {
     "data": {
      "text/plain": [
       "<function matplotlib.pyplot.show(close=None, block=None)>"
      ]
     },
     "execution_count": 15,
     "metadata": {},
     "output_type": "execute_result"
    },
    {
     "data": {
      "image/png": "[encoded data removed]",
      "text/plain": [
       "<Figure size 360x360 with 1 Axes>"
      ]
     },
     "metadata": {},
     "output_type": "display_data"
    }
   ],
   "source": [
    "import seaborn as sns\n",
    "import matplotlib.pyplot as plt\n",
    "\n",
    "sns.set(color_codes=True)\n",
    "sns.set_style(\"white\")\n",
    "\n",
    "ax = sns.regplot(Y_test, Y_pred, scatter_kws={'alpha':0.4})\n",
    "ax.set_xlabel('Experimental pIC50', fontsize='large', fontweight='bold')\n",
    "ax.set_ylabel('Predicted pIC50', fontsize='large', fontweight='bold')\n",
    "ax.set_xlim(0, 12)\n",
    "ax.set_ylim(0, 12)\n",
    "ax.figure.set_size_inches(5, 5)\n",
    "plt.show"
   ]
  },
  {
   "cell_type": "markdown",
   "id": "ff97de4c",
   "metadata": {},
   "source": [
    "### Linear Regression Model"
   ]
  },
  {
   "cell_type": "code",
   "execution_count": 16,
   "id": "07bfe473",
   "metadata": {},
   "outputs": [],
   "source": [
    "from sklearn import linear_model\n",
    "from sklearn.metrics import mean_squared_error, r2_score"
   ]
  },
  {
   "cell_type": "code",
   "execution_count": 17,
   "id": "68a47900",
   "metadata": {},
   "outputs": [
    {
     "data": {
      "text/plain": [
       "LinearRegression()"
      ]
     },
     "execution_count": 17,
     "metadata": {},
     "output_type": "execute_result"
    }
   ],
   "source": [
    "model = linear_model.LinearRegression()\n",
    "model.fit(X_train, Y_train)"
   ]
  },
  {
   "cell_type": "markdown",
   "id": "b3551e52",
   "metadata": {},
   "source": [
    "### Predicts the X_train"
   ]
  },
  {
   "cell_type": "code",
   "execution_count": 18,
   "id": "02a21279",
   "metadata": {},
   "outputs": [],
   "source": [
    "Y_pred_train = model.predict(X_train)"
   ]
  },
  {
   "cell_type": "code",
   "execution_count": 19,
   "id": "3c34cedb",
   "metadata": {},
   "outputs": [
    {
     "name": "stdout",
     "output_type": "stream",
     "text": [
      "Coefficients: [ 3.19618528e-01 -5.62947973e-02  4.95251484e-01 -6.92356053e-02\n",
      "  2.44456423e-01  1.54691392e+00 -3.16459303e-03  4.27820285e-01\n",
      " -2.10451227e-01 -1.40344733e-01  1.04699610e-01 -2.29077822e+00\n",
      "  1.40792325e+00  1.78790284e+00 -1.40581789e-01  7.62059677e-01\n",
      " -1.80571366e-01  3.84296607e-01  1.69093265e-01 -2.62620131e-01\n",
      "  1.63883439e-01 -3.36349563e-01  6.82296537e-02  2.64084440e-01\n",
      "  2.44456423e-01 -1.06554196e+00 -3.16459303e-03 -1.06696416e+00\n",
      " -3.25213428e-01  1.16818465e+00  7.71861487e-01  5.92166322e-02\n",
      " -3.16459303e-03  2.16882078e-01  6.83544241e-01 -2.03283846e+00\n",
      "  1.79099349e+00 -3.97385929e-01 -1.46807062e-02 -4.32409585e-01\n",
      "  7.27219487e-03 -8.03318779e-01  5.74845355e-01  1.08964970e+00\n",
      "  1.49711255e+00 -1.22637136e+00 -1.45283839e-01  1.54977934e-01\n",
      "  6.06416102e-02 -2.71062616e-01 -1.70985051e+00 -1.42670792e+00\n",
      " -2.96495712e-01  1.31467642e+00 -3.30225510e+00  1.30188121e+00\n",
      "  2.18467875e+00  1.33758302e-01  1.18204282e+00 -1.54421022e+00\n",
      "  1.72729774e+00  8.30822309e-01  1.33266947e-01 -8.56230143e-01\n",
      "  7.00123210e-02 -1.20518329e+00  1.27050409e+00 -7.95006617e-01\n",
      "  1.76692402e+00  2.32971902e+00  1.93608135e+00 -5.15337224e-01\n",
      "  1.54853884e-03 -5.46534553e-01 -2.26143240e+00 -2.20959860e+00\n",
      " -7.65501509e-01 -7.14932278e-01  7.12670068e-01 -1.18045184e+00\n",
      " -3.16459303e-03  7.74140927e-02  3.19360690e-01  2.43633024e+00\n",
      " -5.15337224e-01  1.69637267e+00  9.24499605e-01  1.42744554e+00\n",
      "  2.38868778e-02  7.17867426e-01 -1.81929999e-01 -4.61558080e-01\n",
      " -6.22505775e-02  7.55192093e-01  3.71733668e-01 -4.79947905e-02\n",
      "  7.74140927e-02  2.83691461e-01 -3.16459303e-03  6.51690501e-01\n",
      "  4.15463336e-01  8.03766131e-01  1.54853884e-03  6.12121321e-01\n",
      " -1.08878858e-01 -1.49725928e+00  1.92731443e-01 -4.97232756e-01\n",
      " -1.49123881e+00  1.19369600e+00 -3.64449948e-01 -1.54540647e-01\n",
      "  5.08488292e-01  3.19360690e-01 -5.90838943e-01 -2.16989206e-01\n",
      "  7.06328539e-01  1.58482697e-03  3.19360690e-01 -6.52575623e-01\n",
      "  9.63905981e-01  1.58160683e-01 -4.91981435e-01 -2.57321244e-02\n",
      " -1.08878858e-01 -8.41104051e-02 -5.70637549e-01  3.61825801e-01\n",
      " -2.69387852e-01 -7.14932278e-01  4.53109530e-01  5.08488292e-01\n",
      "  7.72568802e-01 -2.67945684e-01 -2.74581797e-02 -1.19632610e-01\n",
      " -2.57321244e-02  2.40020899e-01 -1.86277996e-01 -2.74581797e-02\n",
      " -1.54540647e-01 -7.88514686e-01  1.41170045e-01 -2.16989206e-01\n",
      "  6.51690501e-01  2.10660247e-03  8.07347424e-01 -1.54902269e+00\n",
      " -3.91624811e-02  3.77504840e-01  4.21331909e-01 -7.82159019e-02\n",
      " -5.51493111e-02  3.16591764e-01  1.38120553e-01  1.97589567e-01\n",
      " -3.29923128e-01 -2.58482222e-02  2.18897441e-01 -1.70028611e-01\n",
      "  2.18897441e-01 -1.70028611e-01]\n",
      "Intercept: 2.613698316429253\n",
      "Mean squared error (MSE): 0.61\n",
      "Coefficient of determination (R^2): 0.84\n"
     ]
    }
   ],
   "source": [
    "print('Coefficients:', model.coef_)\n",
    "print('Intercept:', model.intercept_)\n",
    "print('Mean squared error (MSE): %.2f'\n",
    "      % mean_squared_error(Y_train, Y_pred_train))\n",
    "print('Coefficient of determination (R^2): %.2f'\n",
    "      % r2_score(Y_train, Y_pred_train))"
   ]
  },
  {
   "cell_type": "markdown",
   "id": "bbd38c10",
   "metadata": {},
   "source": [
    "### Predicts the X_test"
   ]
  },
  {
   "cell_type": "code",
   "execution_count": 20,
   "id": "f8ad76fd",
   "metadata": {},
   "outputs": [],
   "source": [
    "Y_pred_test = model.predict(X_test)"
   ]
  },
  {
   "cell_type": "code",
   "execution_count": 21,
   "id": "19c29697",
   "metadata": {},
   "outputs": [
    {
     "name": "stdout",
     "output_type": "stream",
     "text": [
      "Coefficients: [ 3.19618528e-01 -5.62947973e-02  4.95251484e-01 -6.92356053e-02\n",
      "  2.44456423e-01  1.54691392e+00 -3.16459303e-03  4.27820285e-01\n",
      " -2.10451227e-01 -1.40344733e-01  1.04699610e-01 -2.29077822e+00\n",
      "  1.40792325e+00  1.78790284e+00 -1.40581789e-01  7.62059677e-01\n",
      " -1.80571366e-01  3.84296607e-01  1.69093265e-01 -2.62620131e-01\n",
      "  1.63883439e-01 -3.36349563e-01  6.82296537e-02  2.64084440e-01\n",
      "  2.44456423e-01 -1.06554196e+00 -3.16459303e-03 -1.06696416e+00\n",
      " -3.25213428e-01  1.16818465e+00  7.71861487e-01  5.92166322e-02\n",
      " -3.16459303e-03  2.16882078e-01  6.83544241e-01 -2.03283846e+00\n",
      "  1.79099349e+00 -3.97385929e-01 -1.46807062e-02 -4.32409585e-01\n",
      "  7.27219487e-03 -8.03318779e-01  5.74845355e-01  1.08964970e+00\n",
      "  1.49711255e+00 -1.22637136e+00 -1.45283839e-01  1.54977934e-01\n",
      "  6.06416102e-02 -2.71062616e-01 -1.70985051e+00 -1.42670792e+00\n",
      " -2.96495712e-01  1.31467642e+00 -3.30225510e+00  1.30188121e+00\n",
      "  2.18467875e+00  1.33758302e-01  1.18204282e+00 -1.54421022e+00\n",
      "  1.72729774e+00  8.30822309e-01  1.33266947e-01 -8.56230143e-01\n",
      "  7.00123210e-02 -1.20518329e+00  1.27050409e+00 -7.95006617e-01\n",
      "  1.76692402e+00  2.32971902e+00  1.93608135e+00 -5.15337224e-01\n",
      "  1.54853884e-03 -5.46534553e-01 -2.26143240e+00 -2.20959860e+00\n",
      " -7.65501509e-01 -7.14932278e-01  7.12670068e-01 -1.18045184e+00\n",
      " -3.16459303e-03  7.74140927e-02  3.19360690e-01  2.43633024e+00\n",
      " -5.15337224e-01  1.69637267e+00  9.24499605e-01  1.42744554e+00\n",
      "  2.38868778e-02  7.17867426e-01 -1.81929999e-01 -4.61558080e-01\n",
      " -6.22505775e-02  7.55192093e-01  3.71733668e-01 -4.79947905e-02\n",
      "  7.74140927e-02  2.83691461e-01 -3.16459303e-03  6.51690501e-01\n",
      "  4.15463336e-01  8.03766131e-01  1.54853884e-03  6.12121321e-01\n",
      " -1.08878858e-01 -1.49725928e+00  1.92731443e-01 -4.97232756e-01\n",
      " -1.49123881e+00  1.19369600e+00 -3.64449948e-01 -1.54540647e-01\n",
      "  5.08488292e-01  3.19360690e-01 -5.90838943e-01 -2.16989206e-01\n",
      "  7.06328539e-01  1.58482697e-03  3.19360690e-01 -6.52575623e-01\n",
      "  9.63905981e-01  1.58160683e-01 -4.91981435e-01 -2.57321244e-02\n",
      " -1.08878858e-01 -8.41104051e-02 -5.70637549e-01  3.61825801e-01\n",
      " -2.69387852e-01 -7.14932278e-01  4.53109530e-01  5.08488292e-01\n",
      "  7.72568802e-01 -2.67945684e-01 -2.74581797e-02 -1.19632610e-01\n",
      " -2.57321244e-02  2.40020899e-01 -1.86277996e-01 -2.74581797e-02\n",
      " -1.54540647e-01 -7.88514686e-01  1.41170045e-01 -2.16989206e-01\n",
      "  6.51690501e-01  2.10660247e-03  8.07347424e-01 -1.54902269e+00\n",
      " -3.91624811e-02  3.77504840e-01  4.21331909e-01 -7.82159019e-02\n",
      " -5.51493111e-02  3.16591764e-01  1.38120553e-01  1.97589567e-01\n",
      " -3.29923128e-01 -2.58482222e-02  2.18897441e-01 -1.70028611e-01\n",
      "  2.18897441e-01 -1.70028611e-01]\n",
      "Intercept: 2.613698316429253\n",
      "Mean squared error (MSE): 0.77\n",
      "Coefficient of determination (R^2): 0.80\n"
     ]
    }
   ],
   "source": [
    "print('Coefficients:', model.coef_)\n",
    "print('Intercept:', model.intercept_)\n",
    "print('Mean squared error (MSE): %.2f'\n",
    "      % mean_squared_error(Y_test, Y_pred_test))\n",
    "print('Coefficient of determination (R^2): %.2f'\n",
    "      % r2_score(Y_test, Y_pred_test))"
   ]
  },
  {
   "cell_type": "code",
   "execution_count": null,
   "id": "18c5f485",
   "metadata": {},
   "outputs": [],
   "source": []
  }
 ],
 "metadata": {
  "kernelspec": {
   "display_name": "Python 3 (ipykernel)",
   "language": "python",
   "name": "python3"
  },
  "language_info": {
   "codemirror_mode": {
    "name": "ipython",
    "version": 3
   },
   "file_extension": ".py",
   "mimetype": "text/x-python",
   "name": "python",
   "nbconvert_exporter": "python",
   "pygments_lexer": "ipython3",
   "version": "3.9.13"
  }
 },
 "nbformat": 4,
 "nbformat_minor": 5
}
